{
 "metadata": {
  "name": "",
  "signature": "sha256:cf384890bb6fac24ecbfd449667ec8192c736b51f67d336aa744f67d387ce130"
 },
 "nbformat": 3,
 "nbformat_minor": 0,
 "worksheets": [
  {
   "cells": [
    {
     "cell_type": "markdown",
     "metadata": {},
     "source": [
      "Tutorial: Smooth Parameter Variation\n",
      "=====================================\n",
      "\n",
      "This tutorial shows how to smoothly vary simulation parameters as a function of time. \n",
      "\n",
      "It is specifically aimed at a predetermined variation, that is a temporal variation defined\n",
      "by a function that does not depend on the system's state.\n",
      "\n",
      "On the other hand, if what you want to achieve is a state dependent variation, then the\n",
      "better, more efficient, approach is to define a new Model of local dynamics where the \n",
      "\"parameter\" you wish to vary is recast as a state-variable."
     ]
    },
    {
     "cell_type": "markdown",
     "metadata": {},
     "source": [
      "Setup and Simulator\n",
      "--------------------\n",
      "\n",
      "As usual, we'll geet started by loading some stuff through \"lab\"."
     ]
    },
    {
     "cell_type": "code",
     "collapsed": false,
     "input": [
      "from tvb.simulator.lab import *"
     ],
     "language": "python",
     "metadata": {},
     "outputs": [
      {
       "output_type": "stream",
       "stream": "stdout",
       "text": [
        "2014-05-04 01:50:09,673 - INFO - tvb.simulator.common - Additive(ntau, random_stream, nsig): initing...\n"
       ]
      },
      {
       "output_type": "stream",
       "stream": "stdout",
       "text": [
        "2014-05-04 01:50:41,359 - INFO - tvb.simulator.common - Generic2dOscillator(**kwargs): initing...\n"
       ]
      },
      {
       "output_type": "stream",
       "stream": "stdout",
       "text": [
        "2014-05-04 01:50:41,441 - INFO - tvb.simulator.common - HeunDeterministic(dt): initing...\n"
       ]
      },
      {
       "output_type": "stream",
       "stream": "stdout",
       "text": [
        "2014-05-04 01:50:41,443 - INFO - tvb.simulator.common - TemporalAverage(period, variables_of_interest): initing...\n"
       ]
      },
      {
       "output_type": "stream",
       "stream": "stdout",
       "text": [
        "Couldn't import dot_parser, loading of dot files will not be possible.\n"
       ]
      }
     ],
     "prompt_number": 1
    },
    {
     "cell_type": "markdown",
     "metadata": {},
     "source": [
      "And then, we simply construct and configure a Region level Simulator:"
     ]
    },
    {
     "cell_type": "code",
     "collapsed": false,
     "input": [
      "#Initialise a Model, Coupling, and Connectivity.\n",
      "oscillator = models.Generic2dOscillator()\n",
      "white_matter = connectivity.Connectivity()\n",
      "white_matter.speed = numpy.array([4.0])\n",
      "white_matter_coupling = coupling.Linear(a=0.0154)\n",
      "\n",
      "#Initialise an Integrator\n",
      "heunint = integrators.HeunDeterministic(dt=2**-6)\n",
      "\n",
      "#Initialise some Monitors with period in physical time\n",
      "mon_raw = monitors.Raw()\n",
      "mon_tav = monitors.TemporalAverage(period=2**-2)\n",
      "\n",
      "#Bundle them\n",
      "what_to_watch = (mon_raw, mon_tav)\n",
      "\n",
      "#Initialise a Simulator -- Model, Connectivity, Integrator, and Monitors.\n",
      "sim = simulator.Simulator(model = oscillator, \n",
      "                          connectivity = white_matter,\n",
      "                          coupling = white_matter_coupling, \n",
      "                          integrator = heunint, \n",
      "                          monitors = what_to_watch)\n",
      "sim.configure()"
     ],
     "language": "python",
     "metadata": {},
     "outputs": [
      {
       "output_type": "stream",
       "stream": "stdout",
       "text": [
        "2014-05-04 01:50:48,518 - INFO - tvb.simulator.common - Generic2dOscillator(**kwargs): initing...\n"
       ]
      },
      {
       "output_type": "stream",
       "stream": "stdout",
       "text": [
        "2014-05-04 01:50:48,552 - INFO - tvb.simulator.common - HeunDeterministic(dt): initing...\n"
       ]
      },
      {
       "output_type": "stream",
       "stream": "stdout",
       "text": [
        "2014-05-04 01:50:48,556 - INFO - tvb.simulator.common - Raw(period, variables_of_interest): initing...\n"
       ]
      },
      {
       "output_type": "stream",
       "stream": "stdout",
       "text": [
        "2014-05-04 01:50:48,559 - INFO - tvb.simulator.common - TemporalAverage(period, variables_of_interest): initing...\n"
       ]
      },
      {
       "output_type": "stream",
       "stream": "stdout",
       "text": [
        "2014-05-04 01:50:48,645 - INFO - tvb.simulator.common - Memory requirement guesstimate: simulation will need about 9.0 MB\n"
       ]
      },
      {
       "output_type": "stream",
       "stream": "stdout",
       "text": [
        "2014-05-04 01:50:48,646 - INFO - tvb.simulator.common - horizon is 2457 steps\n"
       ]
      },
      {
       "output_type": "stream",
       "stream": "stdout",
       "text": [
        "2014-05-04 01:50:48,648 - INFO - tvb.simulator.common - Simulator(**kwargs): Setting default history using model's initial() method.\n"
       ]
      },
      {
       "output_type": "stream",
       "stream": "stdout",
       "text": [
        "2014-05-04 01:50:49,820 - WARNING - tvb.simulator.common - Raw(period=0.0, variables_of_interest=[]): Raw monitor ignores period argument.\n"
       ]
      },
      {
       "output_type": "stream",
       "stream": "stdout",
       "text": [
        "2014-05-04 01:50:49,822 - INFO - tvb.simulator.common - Raw(period, variables_of_interest): variable of interest is [0 1]\n"
       ]
      },
      {
       "output_type": "stream",
       "stream": "stdout",
       "text": [
        "2014-05-04 01:50:49,822 - INFO - tvb.simulator.common - Raw(period, variables_of_interest): istep of monitor is 1\n"
       ]
      },
      {
       "output_type": "stream",
       "stream": "stdout",
       "text": [
        "2014-05-04 01:50:49,824 - INFO - tvb.simulator.common - TemporalAverage(period, variables_of_interest): variables of interest: [0]\n"
       ]
      },
      {
       "output_type": "stream",
       "stream": "stdout",
       "text": [
        "2014-05-04 01:50:49,824 - INFO - tvb.simulator.common - TemporalAverage(period, variables_of_interest): istep of monitor is 16\n"
       ]
      },
      {
       "output_type": "stream",
       "stream": "stdout",
       "text": [
        "2014-05-04 01:50:49,825 - INFO - tvb.simulator.common - Memory requirement census: simulation will need about 6.7 MB\n"
       ]
      }
     ],
     "prompt_number": 2
    },
    {
     "cell_type": "markdown",
     "metadata": {},
     "source": [
      "Temporal Parameter Variation\n",
      "-----------------------------\n",
      "\n",
      "To define the parameter's time course we'll need to specify upfront how long \n",
      "a block of simulation we're going to run."
     ]
    },
    {
     "cell_type": "code",
     "collapsed": true,
     "input": [
      "sim_len = 2.0**7"
     ],
     "language": "python",
     "metadata": {},
     "outputs": [],
     "prompt_number": 17
    },
    {
     "cell_type": "markdown",
     "metadata": {},
     "source": [
      "We can use TVB's Equations datatype to create a Gaussian that peaks half \n",
      "way through our simulation. "
     ]
    },
    {
     "cell_type": "code",
     "collapsed": true,
     "input": [
      "# Define a variation of a model parameter as a function of time using an Equation datatype\n",
      "t =  numpy.arange(0, sim_len, sim.integrator.dt)\n",
      "\n",
      "eqn_t = equations.Gaussian()\n",
      "eqn_t.parameters[\"amp\"] = 4.2\n",
      "eqn_t.parameters[\"midpoint\"] = sim_len / 2.0\n",
      "eqn_t.pattern = t\n",
      "a = eqn_t.pattern\n",
      "\n",
      "#Make it a variation relative to the default value\n",
      "a = sim.model.a + a\n",
      "\n",
      "# Grab the length of what we just created, as we'll need it below\n",
      "par_len = a.shape[0]"
     ],
     "language": "python",
     "metadata": {},
     "outputs": [],
     "prompt_number": 18
    },
    {
     "cell_type": "markdown",
     "metadata": {},
     "source": [
      "Let's take a quick look at the parameter variation we just defined, to make sure it looks like what we want..."
     ]
    },
    {
     "cell_type": "code",
     "collapsed": false,
     "input": [
      "#Plot the stimulus\n",
      "plot(t, a)"
     ],
     "language": "python",
     "metadata": {},
     "outputs": [
      {
       "metadata": {},
       "output_type": "pyout",
       "prompt_number": 19,
       "text": [
        "[<matplotlib.lines.Line2D at 0x15e20de10>]"
       ]
      },
      {
       "metadata": {},
       "output_type": "display_data",
       "png": "[encoded data removed]",
       "text": [
        "<matplotlib.figure.Figure at 0x15c11ea50>"
       ]
      }
     ],
     "prompt_number": 19
    },
    {
     "cell_type": "markdown",
     "metadata": {},
     "source": [
      "Simulate\n",
      "--------\n",
      "\n",
      "Initialise some empty lists that will contain results of the simulation"
     ]
    },
    {
     "cell_type": "code",
     "collapsed": true,
     "input": [
      "raw_data, raw_time = [], []\n",
      "tavg_data, tavg_time = [], []"
     ],
     "language": "python",
     "metadata": {},
     "outputs": [],
     "prompt_number": 20
    },
    {
     "cell_type": "markdown",
     "metadata": {},
     "source": [
      "We then run the simulation, much as we normally would, just with an explicit extra\n",
      "step of updating our Model parameter at each step of the integration.\n",
      "\n",
      "**Note:** The use of sim.current_step and the modulo (%) operator here is just to \n",
      "    make it easier for us to rerun this block later, see below."
     ]
    },
    {
     "cell_type": "code",
     "collapsed": false,
     "input": [
      "#Run the simulation\n",
      "step = sim.current_step\n",
      "sim.model.a = a[step%par_len]\n",
      "\n",
      "for raw, tavg in sim(simulation_length = sim_len):\n",
      "    \n",
      "    if not raw is None:\n",
      "        raw_time.append(raw[0])\n",
      "        raw_data.append(raw[1])\n",
      "    \n",
      "    if not tavg is None:\n",
      "        tavg_time.append(tavg[0])\n",
      "        tavg_data.append(tavg[1])\n",
      "        \n",
      "    step += 1\n",
      "    # Change a model parameter at each integration step\n",
      "    sim.model.a = a[step%par_len]"
     ],
     "language": "python",
     "metadata": {},
     "outputs": [
      {
       "output_type": "stream",
       "stream": "stdout",
       "text": [
        "2014-05-04 01:56:20,761 - INFO - tvb.simulator.common - Simulation single-threaded runtime should be about 7 seconds!\n"
       ]
      },
      {
       "output_type": "stream",
       "stream": "stdout",
       "text": [
        "2014-05-04 01:56:20,763 - INFO - tvb.simulator.common - Calculating storage requirement for ...\n"
       ]
      },
      {
       "output_type": "stream",
       "stream": "stdout",
       "text": [
        "2014-05-04 01:56:20,765 - INFO - tvb.simulator.common - Simulator(**kwargs): gonna do 8192 integration steps\n"
       ]
      }
     ],
     "prompt_number": 21
    },
    {
     "cell_type": "markdown",
     "metadata": {},
     "source": [
      "Plots\n",
      "-----\n",
      "\n",
      "Now let's plot the resulting time-series with the parameter variation over-plotted for reference."
     ]
    },
    {
     "cell_type": "code",
     "collapsed": false,
     "input": [
      "#Make the lists numpy.arrays for easier use.\n",
      "RAW = numpy.array(raw_data)\n",
      "TAVG = numpy.array(tavg_data)\n",
      "\n",
      "#Plot raw time series\n",
      "figure(1)\n",
      "plot(raw_time, RAW[:, 0, :, 0])\n",
      "plot(t + (step-par_len)*sim.integrator.dt, a, 'r--', linewidth=2)\n",
      "title(\"Raw -- State variable 0\")\n",
      "\n",
      "figure(2)\n",
      "plot(raw_time, RAW[:, 1, :, 0])\n",
      "plot(t + (step-par_len)*sim.integrator.dt, a, 'r--', linewidth=2)\n",
      "title(\"Raw -- State variable 1\")\n",
      "\n",
      "#Plot temporally averaged time series + parameter\n",
      "figure(3)\n",
      "plot(tavg_time, TAVG[:, 0, :, 0])\n",
      "plot(t + (step-par_len)*sim.integrator.dt, a, 'r--', linewidth=2)\n",
      "title(\"Temporal average\")\n",
      "\n",
      "#Show them\n",
      "show()"
     ],
     "language": "python",
     "metadata": {},
     "outputs": [
      {
       "metadata": {},
       "output_type": "display_data",
       "png": "[encoded data removed]",
       "text": [
        "<matplotlib.figure.Figure at 0x15c11ee90>"
       ]
      },
      {
       "metadata": {},
       "output_type": "display_data",
       "png": "[encoded data removed]",
       "text": [
        "<matplotlib.figure.Figure at 0x15d37bad0>"
       ]
      },
      {
       "metadata": {},
       "output_type": "display_data",
       "png": "[encoded data removed]",
       "text": [
        "<matplotlib.figure.Figure at 0x15c10bad0>"
       ]
      }
     ],
     "prompt_number": 22
    },
    {
     "cell_type": "markdown",
     "metadata": {},
     "source": [
      "The red dashed line is an over-plot of the stimulus on the simulated neural activity.\n",
      "The response of the parameter variation is visible, if you look closely, but is mostly \n",
      "overwhelmed by the transient from our initial conditions. If you want to see the effect \n",
      "of the parameter variation more clearly, simply go back and re-evaluate the cell that \n",
      "runs the simulation, this will continue the simulation from where it finished and \n",
      "once again apply the parameter variation half way through the block of simulation.\n",
      "Then simply evaluate the plotting cell again. Whether or not you evaluate the cell above \n",
      "the simulation cell again is up to you, if you do then the previously Monitored data will\n",
      "be cleared (data shown in the figures), if not then the newly Monitored data will be appended to the data from \n",
      "the previous simulation run."
     ]
    },
    {
     "cell_type": "markdown",
     "metadata": {},
     "source": [
      "That's All Folks... so, what's next?\n",
      "------------------------------------"
     ]
    }
   ],
   "metadata": {}
  }
 ]
}