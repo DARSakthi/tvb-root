{
 "cells": [
  {
   "cell_type": "markdown",
   "metadata": {},
   "source": [
    "### Display EEG and MEG sensors location\n",
    "1) Plot MEG sensor locations and the region centres given by the\n",
    "connectivity matrix.  \n",
    "\n",
    "2) Plot EEG sensor locations on top of a surface representing the skin-air\n",
    "boundary"
   ]
  },
  {
   "cell_type": "code",
   "execution_count": 2,
   "metadata": {
    "collapsed": true
   },
   "outputs": [],
   "source": [
    "from tvb.simulator.lab import *"
   ]
  },
  {
   "cell_type": "markdown",
   "metadata": {},
   "source": [
    "####Load datatypes"
   ]
  },
  {
   "cell_type": "code",
   "execution_count": 3,
   "metadata": {
    "collapsed": true
   },
   "outputs": [],
   "source": [
    "# Get 'default' MEG sensors\n",
    "sens_meg = sensors.SensorsMEG(load_default=True)\n",
    "\n",
    "# Get connectivity\n",
    "white_matter = connectivity.Connectivity(load_default=True)\n",
    "centres = white_matter.centres\n",
    "\n",
    "# Get surface - SkinAir\n",
    "skin = surfaces.SkinAir(load_default=True)\n",
    "skin.configure()\n",
    "\n",
    "# Get 'default' EEG sensors\n",
    "sens_eeg = sensors.SensorsEEG(load_default=True)\n",
    "sens_eeg.configure()\n",
    "\n",
    "# Project eeg unit vector locations onto the surface space\n",
    "sensor_locations_eeg = sens_eeg.sensors_to_surface(skin)"
   ]
  },
  {
   "cell_type": "markdown",
   "metadata": {},
   "source": [
    "####Plot pretty pictures of what we just did "
   ]
  },
  {
   "cell_type": "code",
   "execution_count": 11,
   "metadata": {
    "collapsed": false
   },
   "outputs": [
    {
     "data": {
      "image/png": "[encoded data removed]",
      "text/plain": [
       "<matplotlib.figure.Figure at 0x7fdc1f8cd3d0>"
      ]
     },
     "metadata": {},
     "output_type": "display_data"
    }
   ],
   "source": [
    "try:\n",
    "    from tvb.simulator.plot.tools import mlab\n",
    "    \n",
    "    fig_meg = mlab.figure(figure='MEG sensors', bgcolor=(0.0, 0.0, 0.0))\n",
    "    \n",
    "    region_centres = mlab.points3d(centres[:, 0], \n",
    "                                   centres[:, 1], \n",
    "                                   centres[:, 2],\n",
    "                                   color=(0.9, 0.9, 0.9),\n",
    "                                   scale_factor = 10.)\n",
    "    \n",
    "    meg_sensor_loc = mlab.points3d(sens_meg.locations[:, 0],\n",
    "                                   sens_meg.locations[:, 1], \n",
    "                                   sens_meg.locations[:, 2], \n",
    "                                   color=(0, 0, 1), \n",
    "                                   opacity = 0.6,\n",
    "                                   scale_factor = 10,\n",
    "                                   mode='cube')\n",
    "    \n",
    "    plot_surface(skin)\n",
    "    eeg_sensor_loc = mlab.points3d(sensor_locations_eeg[:, 0],\n",
    "                                   sensor_locations_eeg[:, 1],\n",
    "                                   sensor_locations_eeg[:, 2],\n",
    "                                   color=(0, 0, 1),\n",
    "                                   opacity = 0.7,\n",
    "                                   scale_factor=5)\n",
    "    # Plot them\n",
    "    mlab.show(stop=True)\n",
    "    # plot a screenshot of the Mayavi Scene\n",
    "    imshow(mlab.screenshot())\n",
    "except ImportError:\n",
    "    LOG.exception(\"Could not display!\")\n",
    "    pass"
   ]
  }
 ],
 "metadata": {
  "kernelspec": {
   "display_name": "Python 2",
   "language": "python",
   "name": "python2"
  },
  "language_info": {
   "codemirror_mode": {
    "name": "ipython",
    "version": 2
   },
   "file_extension": ".py",
   "mimetype": "text/x-python",
   "name": "python",
   "nbconvert_exporter": "python",
   "pygments_lexer": "ipython2",
   "version": "2.7.10"
  }
 },
 "nbformat": 4,
 "nbformat_minor": 0
}
