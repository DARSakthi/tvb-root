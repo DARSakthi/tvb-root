{
 "cells": [
  {
   "cell_type": "code",
   "execution_count": 3,
   "metadata": {
    "collapsed": false
   },
   "outputs": [
    {
     "name": "stdout",
     "output_type": "stream",
     "text": [
      "Populating the interactive namespace from numpy and matplotlib\n"
     ]
    }
   ],
   "source": [
    "%pylab inline"
   ]
  },
  {
   "cell_type": "markdown",
   "metadata": {},
   "source": [
    "###PCA analysis and visualisation demo.\n",
    "\n",
    "``Run time``: approximately ? minutes (workstation circa 2010)\n",
    "\n",
    "``Memory requirement``: ~ ?GB"
   ]
  },
  {
   "cell_type": "code",
   "execution_count": 4,
   "metadata": {
    "collapsed": true
   },
   "outputs": [],
   "source": [
    "from tvb.datatypes.cortex import Cortex\n",
    "\n",
    "from tvb.simulator.lab import *\n",
    "from tvb.datatypes.time_series import TimeSeriesSurface\n",
    "from tvb.simulator.plot import timeseries_interactive as timeseries_interactive\n",
    "from tvb.datatypes.local_connectivity import LocalConnectivity\n",
    "import tvb.analyzers.pca as pca"
   ]
  },
  {
   "cell_type": "code",
   "execution_count": 5,
   "metadata": {
    "collapsed": true
   },
   "outputs": [],
   "source": [
    "# if the demo_data_surface_8.125s_2048HZ.npy file is not present, this function will generate it.\n",
    "def generate_surface_demo_data():\n",
    "    \"\"\"\n",
    "    Generate 8.125 seconds of 2048 Hz data at the surface level, stochastic integration.\n",
    "\n",
    "    ``Run time``: approximately 5 hours (workstation circa 2010, MKL.)\n",
    "\n",
    "    ``Memory requirement``: ~ 7 GB\n",
    "    ``Storage requirement``: 2.1 GB\n",
    "\n",
    "    .. moduleauthor:: Stuart A. Knock <stuart.knock@gmail.com>\n",
    "\n",
    "    \"\"\"\n",
    "\n",
    "    ##----------------------------------------------------------------------------##\n",
    "    ##-                      Perform the simulation                              -##\n",
    "    ##----------------------------------------------------------------------------##\n",
    "    \n",
    "    #TODO: Configure this so it actually generates an interesting timeseries.\n",
    "    #      Start with a local_coupling that has a broader footprint than the default.\n",
    "    \n",
    "    LOG.info(\"Configuring...\")\n",
    "    #Initialise a Model, Coupling, and Connectivity.\n",
    "    oscillator = models.Generic2dOscillator()\n",
    "    \n",
    "    white_matter = connectivity.Connectivity(load_default=True)\n",
    "    white_matter.speed = numpy.array([4.0])\n",
    "    white_matter_coupling = coupling.Linear(a=2 ** -9)\n",
    "    \n",
    "    #Initialise an Integrator\n",
    "    hiss = noise.Additive(nsig=numpy.array([2 ** -16, ]))\n",
    "    heunint = integrators.HeunStochastic(dt=0.06103515625, noise=hiss)\n",
    "    #TODO: Make dt as big as possible to shorten runtime; restrictions of integral multiples to get desired monitor period\n",
    "    \n",
    "    #Initialise a Monitor with period in physical time\n",
    "    what_to_watch = monitors.TemporalAverage(period=0.48828125)     # 2048Hz => period=1000.0/2048.0\n",
    "    \n",
    "    #Initialise a surface\n",
    "    local_coupling_strength = numpy.array([0.0115])\n",
    "    \n",
    "    grey_matter = LocalConnectivity(load_default=True)\n",
    "    grey_matter.cutoff = 60.0\n",
    "    grey_matter.equation.parameters['sigma1'] = 10.0\n",
    "    grey_matter.equation.parameters['sigma2'] = 20.0\n",
    "    grey_matter.equation.parameters['amp1'] = 1.0\n",
    "    grey_matter.equation.parameters['amp2'] = 0.5\n",
    "    \n",
    "    default_cortex = Cortex.from_file()\n",
    "    default_cortex.local_connectivity = grey_matter\n",
    "    default_cortex.coupling_strength = local_coupling_strength\n",
    "    \n",
    "    #Initialise a Simulator -- Model, Connectivity, Integrator, and Monitors.\n",
    "    sim = simulator.Simulator(model=oscillator, connectivity=white_matter,\n",
    "                              coupling=white_matter_coupling,\n",
    "                              integrator=heunint, monitors=what_to_watch,\n",
    "                              surface=default_cortex)\n",
    "    sim.configure()\n",
    "    \n",
    "    #Clear initial transient\n",
    "    LOG.info(\"Initial run to clear transient...\")\n",
    "    for _ in sim(simulation_length=125):\n",
    "        pass\n",
    "    LOG.info(\"Finished initial run to clear transient.\")\n",
    "    \n",
    "    \n",
    "    #Perform the simulation\n",
    "    tavg_data = []\n",
    "    tavg_time = []\n",
    "    LOG.info(\"Starting simulation...\")\n",
    "    for tavg in sim(simulation_length=8125):\n",
    "        if not tavg is None:\n",
    "            tavg_time.append(tavg[0][0])\n",
    "            tavg_data.append(tavg[0][1])\n",
    "    \n",
    "    LOG.info(\"Finished simulation.\")\n",
    "    \n",
    "    \n",
    "    ##----------------------------------------------------------------------------##\n",
    "    ##-                     Save the data to a file                              -##\n",
    "    ##----------------------------------------------------------------------------##\n",
    "    \n",
    "    #Make the list a numpy.array.\n",
    "    LOG.info(\"Converting result to array...\")\n",
    "    TAVG = numpy.array(tavg_data)\n",
    "    \n",
    "    #Save it\n",
    "    FILE_NAME = \"demo_data_surface_8.125s_2048Hz.npy\"\n",
    "    LOG.info(\"Saving array to %s...\" % FILE_NAME)\n",
    "    numpy.save(FILE_NAME, TAVG)\n",
    "    \n",
    "    LOG.info(\"Done.\")\n",
    "    \n",
    "    ###EoF###"
   ]
  },
  {
   "cell_type": "code",
   "execution_count": 6,
   "metadata": {
    "collapsed": false
   },
   "outputs": [],
   "source": [
    "#Load the demo surface timeseries dataset \n",
    "try:\n",
    "    data = numpy.load(\"demo_data_surface_8.125s_2048Hz.npy\")\n",
    "except IOError:\n",
    "    LOG.error(\"Can't load demo data. Run demos/generate_surface_demo_data.py\")\n",
    "    generate_surface_demo_data()\n",
    "\n"
   ]
  },
  {
   "cell_type": "code",
   "execution_count": 7,
   "metadata": {
    "collapsed": true
   },
   "outputs": [],
   "source": [
    "period = 0.00048828125  # s"
   ]
  },
  {
   "cell_type": "code",
   "execution_count": 8,
   "metadata": {
    "collapsed": true
   },
   "outputs": [],
   "source": [
    "#Initialse a default surface\n",
    "default_cortex = Cortex.from_file()\n"
   ]
  },
  {
   "cell_type": "code",
   "execution_count": null,
   "metadata": {
    "collapsed": false
   },
   "outputs": [],
   "source": [
    "#Put the data into a TimeSeriesSurface datatype\n",
    "tsr = TimeSeriesSurface(surface=default_cortex,\n",
    "                        data=data,\n",
    "                        sample_period=period)\n",
    "tsr.configure()"
   ]
  },
  {
   "cell_type": "code",
   "execution_count": null,
   "metadata": {
    "collapsed": false
   },
   "outputs": [],
   "source": [
    "#Create and run the analyser\n",
    "pca_analyser = pca.PCA(time_series=tsr)\n",
    "pca_data = pca_analyser.evaluate()"
   ]
  },
  {
   "cell_type": "code",
   "execution_count": null,
   "metadata": {
    "collapsed": false
   },
   "outputs": [],
   "source": [
    "#Generate derived data, such as, component time series, etc.\n",
    "pca_data.configure()"
   ]
  },
  {
   "cell_type": "code",
   "execution_count": null,
   "metadata": {
    "collapsed": false
   },
   "outputs": [],
   "source": [
    "#Put the data into a TimeSeriesSurface datatype\n",
    "component_tsr = TimeSeriesSurface(surface=default_cortex,\n",
    "                                  data=pca_data.component_time_series,\n",
    "                                  sample_period=period)\n",
    "component_tsr.configure()\n"
   ]
  },
  {
   "cell_type": "code",
   "execution_count": null,
   "metadata": {
    "collapsed": false
   },
   "outputs": [],
   "source": [
    "#Prutty pictures...\n",
    "tsi = timeseries_interactive.TimeSeriesInteractive(time_series=component_tsr,\n",
    "                                                   first_n=16)\n",
    "tsi.configure()\n",
    "tsi.show()"
   ]
  }
 ],
 "metadata": {
  "kernelspec": {
   "display_name": "Python 2",
   "language": "python",
   "name": "python2"
  },
  "language_info": {
   "codemirror_mode": {
    "name": "ipython",
    "version": 2
   },
   "file_extension": ".py",
   "mimetype": "text/x-python",
   "name": "python",
   "nbconvert_exporter": "python",
   "pygments_lexer": "ipython2",
   "version": "2.7.10"
  }
 },
 "nbformat": 4,
 "nbformat_minor": 0
}
