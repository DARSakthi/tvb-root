{
 "cells": [
  {
   "cell_type": "code",
   "execution_count": 1,
   "metadata": {
    "collapsed": false
   },
   "outputs": [
    {
     "name": "stdout",
     "output_type": "stream",
     "text": [
      "Populating the interactive namespace from numpy and matplotlib\n"
     ]
    }
   ],
   "source": [
    "%pylab inline"
   ]
  },
  {
   "cell_type": "markdown",
   "metadata": {},
   "source": [
    "###Display the local connectivity kernel definining the local coupling strength for one focal point\n",
    "\n",
    "``Run time``: approximately 35 s (geodist step of local Connect)\n",
    "\n",
    "``Memory requirement``: < 1 GB"
   ]
  },
  {
   "cell_type": "code",
   "execution_count": 2,
   "metadata": {
    "collapsed": true
   },
   "outputs": [],
   "source": [
    "from tvb.datatypes.cortex import Cortex\n",
    "from tvb.datatypes.local_connectivity import LocalConnectivity\n",
    "\n",
    "from tvb.simulator.lab import *"
   ]
  },
  {
   "cell_type": "markdown",
   "metadata": {},
   "source": [
    "###Perform the simulation  "
   ]
  },
  {
   "cell_type": "code",
   "execution_count": 3,
   "metadata": {
    "collapsed": true
   },
   "outputs": [],
   "source": [
    "LOG.info(\"Configuring...\")"
   ]
  },
  {
   "cell_type": "code",
   "execution_count": 4,
   "metadata": {
    "collapsed": true
   },
   "outputs": [],
   "source": [
    "#Initialise a surface:\n",
    "#First define the function describing the \"local\" connectivity.\n",
    "grey_matter = LocalConnectivity(cutoff=20.0)\n",
    "grey_matter.equation.parameters['sigma'] = 10.0\n",
    "grey_matter.equation.parameters['amp'] = 1.0"
   ]
  },
  {
   "cell_type": "code",
   "execution_count": 5,
   "metadata": {
    "collapsed": true
   },
   "outputs": [],
   "source": [
    "#then a scaling factor, to adjust the strength of the local connectivity \n",
    "local_coupling_strength = numpy.array([0.0115])"
   ]
  },
  {
   "cell_type": "code",
   "execution_count": 6,
   "metadata": {
    "collapsed": false
   },
   "outputs": [
    {
     "ename": "AttributeError",
     "evalue": "'NoneType' object has no attribute 'local_gdist_matrix'",
     "output_type": "error",
     "traceback": [
      "\u001b[1;31m---------------------------------------------------------------------------\u001b[0m",
      "\u001b[1;31mAttributeError\u001b[0m                            Traceback (most recent call last)",
      "\u001b[1;32m<ipython-input-6-684337dde940>\u001b[0m in \u001b[0;36m<module>\u001b[1;34m()\u001b[0m\n\u001b[0;32m      3\u001b[0m \u001b[0mdefault_cortex\u001b[0m\u001b[1;33m.\u001b[0m\u001b[0mlocal_connectivity\u001b[0m \u001b[1;33m=\u001b[0m \u001b[0mgrey_matter\u001b[0m\u001b[1;33m\u001b[0m\u001b[0m\n\u001b[0;32m      4\u001b[0m \u001b[0mdefault_cortex\u001b[0m\u001b[1;33m.\u001b[0m\u001b[0mcoupling_strength\u001b[0m \u001b[1;33m=\u001b[0m \u001b[0mlocal_coupling_strength\u001b[0m\u001b[1;33m\u001b[0m\u001b[0m\n\u001b[1;32m----> 5\u001b[1;33m \u001b[0mdefault_cortex\u001b[0m\u001b[1;33m.\u001b[0m\u001b[0mconfigure\u001b[0m\u001b[1;33m(\u001b[0m\u001b[1;33m)\u001b[0m\u001b[1;33m\u001b[0m\u001b[0m\n\u001b[0m",
      "\u001b[1;32m/home/tim/trunk/scientific_library/tvb/datatypes/cortex_scientific.pyc\u001b[0m in \u001b[0;36mconfigure\u001b[1;34m(self)\u001b[0m\n\u001b[0;32m     63\u001b[0m \u001b[1;33m\u001b[0m\u001b[0m\n\u001b[0;32m     64\u001b[0m         \u001b[1;32mif\u001b[0m \u001b[0mself\u001b[0m\u001b[1;33m.\u001b[0m\u001b[0mlocal_connectivity\u001b[0m\u001b[1;33m.\u001b[0m\u001b[0mmatrix\u001b[0m\u001b[1;33m.\u001b[0m\u001b[0msize\u001b[0m \u001b[1;33m==\u001b[0m \u001b[1;36m0\u001b[0m\u001b[1;33m:\u001b[0m\u001b[1;33m\u001b[0m\u001b[0m\n\u001b[1;32m---> 65\u001b[1;33m             \u001b[0mself\u001b[0m\u001b[1;33m.\u001b[0m\u001b[0mcompute_local_connectivity\u001b[0m\u001b[1;33m(\u001b[0m\u001b[1;33m)\u001b[0m\u001b[1;33m\u001b[0m\u001b[0m\n\u001b[0m\u001b[0;32m     66\u001b[0m \u001b[1;33m\u001b[0m\u001b[0m\n\u001b[0;32m     67\u001b[0m \u001b[1;33m\u001b[0m\u001b[0m\n",
      "\u001b[1;32m/home/tim/trunk/scientific_library/tvb/datatypes/cortex_scientific.pyc\u001b[0m in \u001b[0;36mcompute_local_connectivity\u001b[1;34m(self)\u001b[0m\n\u001b[0;32m     96\u001b[0m         \u001b[0mLOG\u001b[0m\u001b[1;33m.\u001b[0m\u001b[0minfo\u001b[0m\u001b[1;33m(\u001b[0m\u001b[1;34m\"Computing local connectivity matrix\"\u001b[0m\u001b[1;33m)\u001b[0m\u001b[1;33m\u001b[0m\u001b[0m\n\u001b[0;32m     97\u001b[0m         \u001b[0mloc_con_cutoff\u001b[0m \u001b[1;33m=\u001b[0m \u001b[0mself\u001b[0m\u001b[1;33m.\u001b[0m\u001b[0mlocal_connectivity\u001b[0m\u001b[1;33m.\u001b[0m\u001b[0mcutoff\u001b[0m\u001b[1;33m\u001b[0m\u001b[0m\n\u001b[1;32m---> 98\u001b[1;33m         \u001b[0mself\u001b[0m\u001b[1;33m.\u001b[0m\u001b[0mcompute_geodesic_distance_matrix\u001b[0m\u001b[1;33m(\u001b[0m\u001b[0mmax_dist\u001b[0m\u001b[1;33m=\u001b[0m\u001b[0mloc_con_cutoff\u001b[0m\u001b[1;33m)\u001b[0m\u001b[1;33m\u001b[0m\u001b[0m\n\u001b[0m\u001b[0;32m     99\u001b[0m \u001b[1;33m\u001b[0m\u001b[0m\n\u001b[0;32m    100\u001b[0m         \u001b[0mself\u001b[0m\u001b[1;33m.\u001b[0m\u001b[0mlocal_connectivity\u001b[0m\u001b[1;33m.\u001b[0m\u001b[0mmatrix_gdist\u001b[0m \u001b[1;33m=\u001b[0m \u001b[0mself\u001b[0m\u001b[1;33m.\u001b[0m\u001b[0mgeodesic_distance_matrix\u001b[0m\u001b[1;33m.\u001b[0m\u001b[0mcopy\u001b[0m\u001b[1;33m(\u001b[0m\u001b[1;33m)\u001b[0m\u001b[1;33m\u001b[0m\u001b[0m\n",
      "\u001b[1;32m/home/tim/trunk/scientific_library/tvb/datatypes/surfaces_scientific.pyc\u001b[0m in \u001b[0;36mcompute_geodesic_distance_matrix\u001b[1;34m(self, max_dist)\u001b[0m\n\u001b[0;32m    186\u001b[0m         \u001b[1;31m#    return\u001b[0m\u001b[1;33m\u001b[0m\u001b[1;33m\u001b[0m\u001b[0m\n\u001b[0;32m    187\u001b[0m \u001b[1;33m\u001b[0m\u001b[0m\n\u001b[1;32m--> 188\u001b[1;33m         dist = gdist.local_gdist_matrix(self.vertices.astype(numpy.float64),\n\u001b[0m\u001b[0;32m    189\u001b[0m                                         \u001b[0mself\u001b[0m\u001b[1;33m.\u001b[0m\u001b[0mtriangles\u001b[0m\u001b[1;33m.\u001b[0m\u001b[0mastype\u001b[0m\u001b[1;33m(\u001b[0m\u001b[0mnumpy\u001b[0m\u001b[1;33m.\u001b[0m\u001b[0mint32\u001b[0m\u001b[1;33m)\u001b[0m\u001b[1;33m,\u001b[0m\u001b[1;33m\u001b[0m\u001b[0m\n\u001b[0;32m    190\u001b[0m                                         max_distance=max_dist)\n",
      "\u001b[1;31mAttributeError\u001b[0m: 'NoneType' object has no attribute 'local_gdist_matrix'"
     ]
    }
   ],
   "source": [
    "#finally, create a default cortex that includes the custom local connectivity.\n",
    "default_cortex = Cortex.from_file()\n",
    "default_cortex.local_connectivity = grey_matter\n",
    "default_cortex.coupling_strength = local_coupling_strength\n",
    "default_cortex.configure()"
   ]
  },
  {
   "cell_type": "code",
   "execution_count": null,
   "metadata": {
    "collapsed": false
   },
   "outputs": [],
   "source": [
    "# define scalar data to colour the surface \n",
    "lc = default_cortex.local_connectivity.matrix[:, 0].todense()\n",
    "try:\n",
    "    from tvb.simulator.plot.tools import mlab\n",
    "    surface_pattern(default_cortex, lc)\n",
    "    #Show them\n",
    "    show()\n",
    "    imshow(mlab.screenshot())\n",
    "except ImportError:\n",
    "    LOG.exception(\"Could not display!\")\n",
    "    pass"
   ]
  }
 ],
 "metadata": {
  "kernelspec": {
   "display_name": "Python 2",
   "language": "python",
   "name": "python2"
  },
  "language_info": {
   "codemirror_mode": {
    "name": "ipython",
    "version": 2
   },
   "file_extension": ".py",
   "mimetype": "text/x-python",
   "name": "python",
   "nbconvert_exporter": "python",
   "pygments_lexer": "ipython2",
   "version": "2.7.10"
  }
 },
 "nbformat": 4,
 "nbformat_minor": 0
}
