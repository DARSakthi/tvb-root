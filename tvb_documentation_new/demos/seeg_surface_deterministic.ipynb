{
 "cells": [
  {
   "cell_type": "code",
   "execution_count": 1,
   "metadata": {
    "collapsed": false
   },
   "outputs": [
    {
     "name": "stdout",
     "output_type": "stream",
     "text": [
      "Populating the interactive namespace from numpy and matplotlib\n"
     ]
    }
   ],
   "source": [
    "%pylab inline"
   ]
  },
  {
   "cell_type": "markdown",
   "metadata": {},
   "source": [
    "###Demonstrate using the simulator for a deterministic surface simulation with SEEG monitor \n",
    "integration.\n",
    "\n",
    "``Run time``: approximately 27 seconds (workstation circa 2010).\n",
    "``Memory requirement``: ~ 1 GB"
   ]
  },
  {
   "cell_type": "code",
   "execution_count": 2,
   "metadata": {
    "collapsed": true
   },
   "outputs": [],
   "source": [
    "from tvb.datatypes.cortex import Cortex\n",
    "\n",
    "from tvb.simulator.lab import *"
   ]
  },
  {
   "cell_type": "code",
   "execution_count": 3,
   "metadata": {
    "collapsed": true
   },
   "outputs": [],
   "source": [
    "LOG.info(\"Configuring...\")"
   ]
  },
  {
   "cell_type": "code",
   "execution_count": 4,
   "metadata": {
    "collapsed": true
   },
   "outputs": [],
   "source": [
    "#Initialise a Model, Coupling, and Connectivity.\n",
    "\n",
    "sens = sensors.SensorsInternal(load_default=True)\n",
    "\n",
    "oscillator = models.Generic2dOscillator()\n",
    "white_matter = connectivity.Connectivity(load_default=True)\n",
    "white_matter.speed = numpy.array([4.0])\n",
    "\n",
    "white_matter_coupling = coupling.Linear(a=0.014)\n"
   ]
  },
  {
   "cell_type": "code",
   "execution_count": 5,
   "metadata": {
    "collapsed": true
   },
   "outputs": [],
   "source": [
    "#Initialise an Integrator\n",
    "heunint = integrators.HeunDeterministic(dt=2 ** -4)"
   ]
  },
  {
   "cell_type": "code",
   "execution_count": 6,
   "metadata": {
    "collapsed": false
   },
   "outputs": [],
   "source": [
    "#Initialise some Monitors with period in physical time\n",
    "mon_tavg = monitors.TemporalAverage(period=2 ** -2)\n",
    "mon_savg = monitors.SpatialAverage(period=2 ** -2)\n",
    "\n",
    "# load the default region mapping\n",
    "rm = region_mapping.RegionMapping(load_default=True)\n",
    "#Initialise some Monitors with period in physical time\n",
    "mon_eeg = monitors.EEG.from_files('eeg-brainstorm-65.txt',\n",
    "                                  'projection_EEG_surface.npy',\n",
    "                                  region_mapping=rm,\n",
    "                                  period=2 ** -2) \n",
    "mon_seeg = monitors.iEEG.from_files('seeg-brainstorm-960.txt',\n",
    "                                    'projection_SEEG_surface.npy',\n",
    "                                    region_mapping=rm,\n",
    "                                    period=2 ** -2)"
   ]
  },
  {
   "cell_type": "code",
   "execution_count": 7,
   "metadata": {
    "collapsed": true
   },
   "outputs": [],
   "source": [
    "#Bundle them\n",
    "what_to_watch = (mon_tavg, mon_savg, mon_eeg, mon_seeg)\n"
   ]
  },
  {
   "cell_type": "code",
   "execution_count": 8,
   "metadata": {
    "collapsed": true
   },
   "outputs": [],
   "source": [
    "#Initialise a surface\n",
    "local_coupling_strength = numpy.array([2 ** -10])\n",
    "default_cortex = Cortex(load_default=True)\n",
    "default_cortex.coupling_strength = local_coupling_strength"
   ]
  },
  {
   "cell_type": "code",
   "execution_count": 9,
   "metadata": {
    "collapsed": false
   },
   "outputs": [
    {
     "data": {
      "text/plain": [
       "Simulator(bound=False, value=None)"
      ]
     },
     "execution_count": 9,
     "metadata": {},
     "output_type": "execute_result"
    }
   ],
   "source": [
    "#Initialise Simulator -- Model, Connectivity, Integrator, Monitors, and surface.\n",
    "sim = simulator.Simulator(model=oscillator, connectivity=white_matter,\n",
    "                          coupling=white_matter_coupling,\n",
    "                          integrator=heunint, monitors=what_to_watch,\n",
    "                          surface=default_cortex)\n",
    "sim.configure()\n"
   ]
  },
  {
   "cell_type": "code",
   "execution_count": null,
   "metadata": {
    "collapsed": true
   },
   "outputs": [],
   "source": [
    "#Perform the simulation\n",
    "tavg_data = []\n",
    "tavg_time = []\n",
    "savg_data = []\n",
    "savg_time = []\n",
    "eeg_data = []\n",
    "eeg_time = []\n",
    "seeg_data = []\n",
    "seeg_time = []\n",
    "\n",
    "for tavg, savg, eeg, seeg in sim(simulation_length=2 ** 2):\n",
    "\n",
    "    if not tavg is None:\n",
    "        tavg_time.append(tavg[0])\n",
    "        tavg_data.append(tavg[1])\n",
    "\n",
    "    if not savg is None:\n",
    "        savg_time.append(savg[0])\n",
    "        savg_data.append(savg[1])\n",
    "\n",
    "    if not eeg is None:\n",
    "        eeg_time.append(eeg[0])\n",
    "        eeg_data.append(eeg[1])\n",
    "    if not seeg is None:\n",
    "        seeg_time.append(seeg[0])\n",
    "        seeg_data.append(seeg[1])\n",
    "\n",
    "LOG.info(\"finished simulation.\")"
   ]
  },
  {
   "cell_type": "markdown",
   "metadata": {},
   "source": [
    "####Plot pretty pictures of what we just did  "
   ]
  },
  {
   "cell_type": "code",
   "execution_count": null,
   "metadata": {
    "collapsed": false,
    "scrolled": true
   },
   "outputs": [],
   "source": [
    "#Make the lists numpy.arrays for easier use.\n",
    "TAVG = numpy.array(tavg_data)\n",
    "SAVG = numpy.array(savg_data)\n",
    "EEG = numpy.array(eeg_data)\n",
    "SEEG = numpy.array(seeg_data)\n",
    "\n",
    "#Plot region averaged time series\n",
    "figure(3)\n",
    "plot(savg_time, SAVG[:, 0, :, 0])\n",
    "title(\"Region average\")\n",
    "\n",
    "#Plot EEG time series\n",
    "figure(4)\n",
    "color_idx = numpy.linspace(0, 1, EEG.shape[2])\n",
    "for i in color_idx:\n",
    "    plot(eeg_time, EEG[:, 0, :, 0], color=cm.cool(i), lw=3, alpha=0.2)\n",
    "title(\"EEG\")\n",
    "\n",
    "#Plot SEEG time series\n",
    "figure(5)\n",
    "color_idx = numpy.linspace(0, 1, SEEG.shape[2])\n",
    "for i in color_idx:\n",
    "    plot(seeg_time, SEEG[:, 0, :, 0], color=cm.cool(i), lw=3, alpha=0.2)\n",
    "title(\"SEEG\")\n",
    "\n",
    "#Show them\n",
    "show()\n",
    "\n",
    "#Surface movie, requires mayavi.mlab\n",
    "if IMPORTED_MAYAVI:\n",
    "    st = surface_timeseries(sim.surface, TAVG[:, 0, :, 0])"
   ]
  }
 ],
 "metadata": {
  "kernelspec": {
   "display_name": "Python 2",
   "language": "python",
   "name": "python2"
  },
  "language_info": {
   "codemirror_mode": {
    "name": "ipython",
    "version": 2
   },
   "file_extension": ".py",
   "mimetype": "text/x-python",
   "name": "python",
   "nbconvert_exporter": "python",
   "pygments_lexer": "ipython2",
   "version": "2.7.10"
  }
 },
 "nbformat": 4,
 "nbformat_minor": 0
}
