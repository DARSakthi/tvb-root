{
 "cells": [
  {
   "cell_type": "code",
   "execution_count": 1,
   "metadata": {
    "collapsed": false
   },
   "outputs": [
    {
     "name": "stdout",
     "output_type": "stream",
     "text": [
      "Populating the interactive namespace from numpy and matplotlib\n"
     ]
    }
   ],
   "source": [
    "%pylab inline"
   ]
  },
  {
   "cell_type": "markdown",
   "metadata": {},
   "source": [
    "Looking At Longer TimeSeries\n",
    "=======================================\n",
    "\n",
    "The scripting interface has two interactive tools for looking at the \n",
    "TimeSeries generated in simulations. This tutorial shows an example of\n",
    "their use, using a demo dataset for region time-series.\n",
    "\n",
    "These are mainly of use for longer simulations, of at least a few seconds."
   ]
  },
  {
   "cell_type": "markdown",
   "metadata": {},
   "source": [
    "Setup\n",
    "------\n",
    "\n",
    "We'll load a few things we need from the \"lab\"."
   ]
  },
  {
   "cell_type": "code",
   "execution_count": 2,
   "metadata": {
    "collapsed": false
   },
   "outputs": [
    {
     "name": "stdout",
     "output_type": "stream",
     "text": [
      "Populating the interactive namespace from numpy and matplotlib\n"
     ]
    }
   ],
   "source": [
    "%pylab inline"
   ]
  },
  {
   "cell_type": "code",
   "execution_count": 3,
   "metadata": {
    "collapsed": false
   },
   "outputs": [],
   "source": [
    "from tvb.simulator.lab import os, simulator, connectivity"
   ]
  },
  {
   "cell_type": "markdown",
   "metadata": {},
   "source": [
    "Get the Demo Dataset\n",
    "---------------------\n",
    "\n",
    "We'll load the region demo dataset, computing it if necessary. We'll also specify \n",
    "the sample_period of the data in seconds rather than milliseconds, this will make \n",
    "the units for the power-spectrum we'll calculate below more natural...\n",
    "\n",
    "**Note:** *If you haven't generated a region demo dataset already, the next cell \n",
    "will take a few minutes to calculate and store it for you... if you have then it \n",
    "should load almost instantly.*"
   ]
  },
  {
   "cell_type": "code",
   "execution_count": 4,
   "metadata": {
    "collapsed": true
   },
   "outputs": [],
   "source": [
    "# Figure out where we are so we can end up where we began...\n",
    "where_we_started = os.path.abspath(os.path.curdir)\n",
    "\n",
    "# A hacky way to get to the region demo data\n",
    "sim_dir = os.path.dirname(simulator.__file__)\n",
    "demo_dir = os.path.join(sim_dir, \"demos\")\n",
    "\n",
    "os.chdir(demo_dir)\n",
    "\n",
    "#Load or generate a demo dataset, and define a its sample period  in seconds (helpful for frequencies below)\n",
    "if not os.path.isfile(\"demo_data_region_16s_2048Hz.npy\"):\n",
    "    %run \"generate_region_demo_data.py\"\n",
    "    period = what_to_watch.period / 1000.0  #NOTE: Providing period in seconds\n",
    "else:\n",
    "    TAVG = load(\"demo_data_region_16s_2048Hz.npy\")\n",
    "    period = 0.00048828125 #NOTE: Providing period in seconds\n",
    "    # Region demo data uses the default Connectivity, but we didn't bother storing it, so we'll regenerate it here.\n",
    "    white_matter = connectivity.Connectivity(load_default=True)\n",
    "    \n",
    "\n",
    "# Time to go home...\n",
    "os.chdir(where_we_started)"
   ]
  },
  {
   "cell_type": "markdown",
   "metadata": {},
   "source": [
    "Create a TimeSeriesRegion Datatype\n",
    "------------------------------------\n",
    "\n",
    "Because we just stored our simulation as a simple array, we need to turn it into one of \n",
    "TVB's TimeSeries datatypes, which is what the two plotting tools operate on, in this case \n",
    "we'll use TimeSeriesRegion."
   ]
  },
  {
   "cell_type": "code",
   "execution_count": 5,
   "metadata": {
    "collapsed": true
   },
   "outputs": [],
   "source": [
    "#Create a tvb TimeSeriesRegion datatype\n",
    "import tvb.datatypes.time_series\n",
    "white_matter.display_name = 'default'\n",
    "tsr = tvb.datatypes.time_series.TimeSeriesRegion(data = TAVG, \n",
    "                                                 connectivity = white_matter,\n",
    "                                                 sample_period = period, \n",
    "                                                 sample_period_unit = \"s\")\n",
    "tsr.configure()"
   ]
  },
  {
   "cell_type": "markdown",
   "metadata": {},
   "source": [
    "As our demo time-series is now a TVB-Datatype we can easily take a look at its summary info"
   ]
  },
  {
   "cell_type": "code",
   "execution_count": 6,
   "metadata": {
    "collapsed": false
   },
   "outputs": [
    {
     "ename": "AttributeError",
     "evalue": "'Connectivity' object has no attribute 'gid'",
     "output_type": "error",
     "traceback": [
      "\u001b[1;31m---------------------------------------------------------------------------\u001b[0m",
      "\u001b[1;31mAttributeError\u001b[0m                            Traceback (most recent call last)",
      "\u001b[1;32m<ipython-input-6-69db5d61d5e7>\u001b[0m in \u001b[0;36m<module>\u001b[1;34m()\u001b[0m\n\u001b[1;32m----> 1\u001b[1;33m \u001b[0mtsr\u001b[0m\u001b[1;33m.\u001b[0m\u001b[0msummary_info\u001b[0m\u001b[1;33m\u001b[0m\u001b[0m\n\u001b[0m",
      "\u001b[1;32m/home/tim/trunk/scientific_library/tvb/basic/traits/core.pyc\u001b[0m in \u001b[0;36msummary_info\u001b[1;34m(self)\u001b[0m\n\u001b[0;32m    491\u001b[0m         \"\"\"\n\u001b[0;32m    492\u001b[0m         \u001b[1;32mif\u001b[0m \u001b[0mself\u001b[0m\u001b[1;33m.\u001b[0m\u001b[0m_summary_info\u001b[0m \u001b[1;32mis\u001b[0m \u001b[0mNone\u001b[0m \u001b[1;32mand\u001b[0m \u001b[0mhasattr\u001b[0m\u001b[1;33m(\u001b[0m\u001b[0mself\u001b[0m\u001b[1;33m,\u001b[0m \u001b[1;34m\"_find_summary_info\"\u001b[0m\u001b[1;33m)\u001b[0m\u001b[1;33m:\u001b[0m\u001b[1;33m\u001b[0m\u001b[0m\n\u001b[1;32m--> 493\u001b[1;33m             \u001b[0mself\u001b[0m\u001b[1;33m.\u001b[0m\u001b[0m_summary_info\u001b[0m \u001b[1;33m=\u001b[0m \u001b[0mself\u001b[0m\u001b[1;33m.\u001b[0m\u001b[0m_find_summary_info\u001b[0m\u001b[1;33m(\u001b[0m\u001b[1;33m)\u001b[0m\u001b[1;33m\u001b[0m\u001b[0m\n\u001b[0m\u001b[0;32m    494\u001b[0m         \u001b[1;32mreturn\u001b[0m \u001b[0mself\u001b[0m\u001b[1;33m.\u001b[0m\u001b[0m_summary_info\u001b[0m\u001b[1;33m\u001b[0m\u001b[0m\n\u001b[0;32m    495\u001b[0m \u001b[1;33m\u001b[0m\u001b[0m\n",
      "\u001b[1;32m/home/tim/trunk/scientific_library/tvb/datatypes/time_series_scientific.pyc\u001b[0m in \u001b[0;36m_find_summary_info\u001b[1;34m(self)\u001b[0m\n\u001b[0;32m    120\u001b[0m         \u001b[0msummary\u001b[0m \u001b[1;33m=\u001b[0m \u001b[0msuper\u001b[0m\u001b[1;33m(\u001b[0m\u001b[0mTimeSeriesRegionScientific\u001b[0m\u001b[1;33m,\u001b[0m \u001b[0mself\u001b[0m\u001b[1;33m)\u001b[0m\u001b[1;33m.\u001b[0m\u001b[0m_find_summary_info\u001b[0m\u001b[1;33m(\u001b[0m\u001b[1;33m)\u001b[0m\u001b[1;33m\u001b[0m\u001b[0m\n\u001b[0;32m    121\u001b[0m         summary.update({\"Source Connectivity\": self.connectivity.display_name,\n\u001b[1;32m--> 122\u001b[1;33m                         \u001b[1;34m\"Source Connectivity GID\"\u001b[0m\u001b[1;33m:\u001b[0m \u001b[0mself\u001b[0m\u001b[1;33m.\u001b[0m\u001b[0mconnectivity\u001b[0m\u001b[1;33m.\u001b[0m\u001b[0mgid\u001b[0m\u001b[1;33m,\u001b[0m\u001b[1;33m\u001b[0m\u001b[0m\n\u001b[0m\u001b[0;32m    123\u001b[0m                         \u001b[1;34m\"Region Mapping GID\"\u001b[0m\u001b[1;33m:\u001b[0m \u001b[0mself\u001b[0m\u001b[1;33m.\u001b[0m\u001b[0mregion_mapping\u001b[0m\u001b[1;33m.\u001b[0m\u001b[0mgid\u001b[0m \u001b[1;32mif\u001b[0m \u001b[0mself\u001b[0m\u001b[1;33m.\u001b[0m\u001b[0mregion_mapping\u001b[0m \u001b[1;32melse\u001b[0m \u001b[1;34m\"None\"\u001b[0m\u001b[1;33m,\u001b[0m\u001b[1;33m\u001b[0m\u001b[0m\n\u001b[0;32m    124\u001b[0m                         \"Region Mapping Volume GID\": (self.region_mapping_volume.gid\n",
      "\u001b[1;31mAttributeError\u001b[0m: 'Connectivity' object has no attribute 'gid'"
     ]
    }
   ],
   "source": [
    "tsr.summary_info"
   ]
  },
  {
   "cell_type": "markdown",
   "metadata": {},
   "source": [
    "Create And Launch A TimeSeriesInteractive\n",
    "------------------------------------------\n",
    "\n",
    "Our typical approach throughout these tutorials has been to to simply plot our time-series \n",
    "using PyLab's plot() function. This is fine as a quick way to look at the small amounts of \n",
    "data we'd been producing, but is insufficient for longer, more meaningful, time-series, \n",
    "such as we get when trying to runs simulations aimed at generating time-series comparable \n",
    "to experimental data. \n",
    "\n",
    "TimeSeriesInteractive is a tool for looking at these longer time-series. It's still \n",
    "relatively simple, but it adds a number of useful features. The time-series are plotted\n",
    "in the main central panel with a constant vertical offset, the label for each channel or\n",
    "region displayed down the left hand side. Along the bottom are three basic controls:\n",
    "on the left there is a slider that allows the length of the window to be changed (in \n",
    "physical units); in the middle a set of buttons exist to step forward and backward \n",
    "through the time-series at different speeds (at the top of the window there is an \n",
    "indicator showing where you are in the time-series); and on the right the vertical \n",
    "spacing, or offset between time series can be set, this has the effect of scaling the \n",
    "time-series' amplitudes."
   ]
  },
  {
   "cell_type": "code",
   "execution_count": null,
   "metadata": {
    "collapsed": false
   },
   "outputs": [],
   "source": [
    "#Create and launch the interactive visualiser\n",
    "import tvb.simulator.plot.timeseries_interactive as ts_int\n",
    "tsi = ts_int.TimeSeriesInteractive(time_series=tsr)\n",
    "tsi.configure()\n",
    "tsi.show()"
   ]
  },
  {
   "cell_type": "markdown",
   "metadata": {},
   "source": [
    "Create And Launch A PowerSpectraInteractive\n",
    "---------------------------------------------\n",
    "\n",
    "A similar plotting tool, called PowerSpectraInteractive, exists for displaying power-spectra of \n",
    "a TimeSeries. A range of basic options exist within the PowerSpectraInteractive window: the x and\n",
    "y axes can be toggled between logarithmic and linear scaling; the segment length used for the FFT\n",
    "can be selected from a range of values; a windowing function can optionally be applied prior to \n",
    "the FFT; the area under the power-spectra can be normalised; and if a region time-series including \n",
    "multiple state-variables or modes is passed in, then these can be selected. \n",
    "\n",
    "Let's take a look:"
   ]
  },
  {
   "cell_type": "code",
   "execution_count": null,
   "metadata": {
    "collapsed": false
   },
   "outputs": [],
   "source": [
    "#Create and launch the interactive visualiser\n",
    "import tvb.simulator.plot.power_spectra_interactive as ps_int\n",
    "psi = ps_int.PowerSpectraInteractive(time_series=tsr)\n",
    "psi.show()"
   ]
  },
  {
   "cell_type": "markdown",
   "metadata": {},
   "source": [
    "That's All Folks... so, what's next?\n",
    "-------------------------------------\n",
    "\n",
    "This was a very short tutorial, just intended to make you aware of a couple of basic tools \n",
    "for looking at longer time-series in TVB. So when you start running longer simulations you \n",
    "now how to quickly take a look at their basic temporal and spectral properties.\n",
    "\n",
    "The next Tutorial, Looking At Long EEG TimeSeries is similar, but we will have a look at EEG time-series from a surface simulation."
   ]
  }
 ],
 "metadata": {
  "kernelspec": {
   "display_name": "Python 2",
   "language": "python",
   "name": "python2"
  },
  "language_info": {
   "codemirror_mode": {
    "name": "ipython",
    "version": 2
   },
   "file_extension": ".py",
   "mimetype": "text/x-python",
   "name": "python",
   "nbconvert_exporter": "python",
   "pygments_lexer": "ipython2",
   "version": "2.7.10"
  }
 },
 "nbformat": 4,
 "nbformat_minor": 0
}
