{
 "cells": [
  {
   "cell_type": "code",
   "execution_count": 1,
   "metadata": {
    "collapsed": false
   },
   "outputs": [
    {
     "name": "stdout",
     "output_type": "stream",
     "text": [
      "Populating the interactive namespace from numpy and matplotlib\n"
     ]
    }
   ],
   "source": [
    "%pylab inline"
   ]
  },
  {
   "cell_type": "markdown",
   "metadata": {},
   "source": [
    "Getting To Know Your Surface Mesh\n",
    "============================================\n",
    "\n",
    "Surface level simulations in TVB use a triangular mesh surface to represent the \n",
    "folded cortical surface, similar triangular mesh surfaces are used to represent \n",
    "the boundaries between brain and skull, skull and skin, and skin and air, that \n",
    "are used in the calculation of EEG and MEG forward solutions. This tutorial \n",
    "covers a few basic ways of looking at the properties of these surfaces.\n",
    "\n",
    "One of the things we'll be looking for is how well regularised the mesh is -- **a\n",
    "well regularised a mesh has a narrow distribution of edge lengths and triangle \n",
    "areas**. For most uses in TVB, it is important to have a well regularised mesh. "
   ]
  },
  {
   "cell_type": "markdown",
   "metadata": {},
   "source": [
    "Setup\n",
    "-----\n",
    "\n",
    "We'll be working under the LIBRARY PROFILE and only import the 'surfaces' datatype:"
   ]
  },
  {
   "cell_type": "code",
   "execution_count": 2,
   "metadata": {
    "collapsed": true
   },
   "outputs": [],
   "source": [
    "from tvb.basic.profile import TvbProfile\n",
    "TvbProfile.set_profile(TvbProfile.LIBRARY_PROFILE)"
   ]
  },
  {
   "cell_type": "code",
   "execution_count": 11,
   "metadata": {
    "collapsed": false
   },
   "outputs": [],
   "source": [
    "import tvb.datatypes.cortex as cort"
   ]
  },
  {
   "cell_type": "markdown",
   "metadata": {},
   "source": [
    "Load the Default Cortical Surface\n",
    "----------------------------------\n",
    "\n",
    "**Note:** *The Cortex requires a LocalConnectivity to be defined over the entire surface, \n",
    "the configure() method below will calculate this LocalConnectivity if it hasn't been specified before. This method may take a minute or so... For the case of the default cortex, a LocalConnectivity has already been loaded*"
   ]
  },
  {
   "cell_type": "code",
   "execution_count": 16,
   "metadata": {
    "collapsed": false
   },
   "outputs": [],
   "source": [
    "cortex = cort.Cortex(load_default=True)\n",
    "cortex.configure()"
   ]
  },
  {
   "cell_type": "markdown",
   "metadata": {},
   "source": [
    "Take A Look At Its Properties\n",
    "------------------------------\n",
    "\n",
    "As our surface is one of TVB's Datatypes, the first thing we can do is take a look at the summary information:"
   ]
  },
  {
   "cell_type": "code",
   "execution_count": 22,
   "metadata": {
    "collapsed": false
   },
   "outputs": [
    {
     "data": {
      "text/plain": [
       "{'Edge lengths, longest (mm)': 7.756718537821133,\n",
       " 'Edge lengths, mean (mm)': 3.9760529288677224,\n",
       " 'Edge lengths, shortest (mm)': 0.6638075672007665,\n",
       " 'Has two hemispheres': False,\n",
       " 'Number of edges': 49140,\n",
       " 'Number of regions': 76,\n",
       " 'Number of triangles': 32760,\n",
       " 'Number of vertices': 16384,\n",
       " 'Region area, maximum (mm:math:`^2`)': 9333.3936550857397,\n",
       " 'Region area, mean (mm:math:`^2`)': 3038.5124452158379,\n",
       " 'Region area, minimum (mm:math:`^2`)': 540.90370450261071,\n",
       " 'Surface type': 'Cortex'}"
      ]
     },
     "execution_count": 22,
     "metadata": {},
     "output_type": "execute_result"
    }
   ],
   "source": [
    "cortex.summary_info"
   ]
  },
  {
   "cell_type": "markdown",
   "metadata": {},
   "source": [
    "We can see a number of basic properties of the mesh here, such as the number of vertices,\n",
    "edges and triangles making up the surface. A summary of the edge lengths is also included,\n",
    "this is useful to know what scale of features, eg LocalConnectivity, we can expect to be \n",
    "able to represent on this surface. As a Cortex also has a large-scale Connectivity \n",
    "associated with it we see some \"Region\" information as well, here it is TVB's default 74\n",
    "region connectivity matrix. As we can see, this Connectivity parcellates the cortex into \n",
    "regions with a fairly broad range of sizes...\n",
    "\n",
    "Looking in more detail, we can plot the distributions of things like edge lengths and \n",
    "triangle areas to see in more detail whether the mesh is well regularised..."
   ]
  },
  {
   "cell_type": "code",
   "execution_count": 23,
   "metadata": {
    "collapsed": false
   },
   "outputs": [
    {
     "data": {
      "text/plain": [
       "<matplotlib.text.Text at 0x7f45131c0b90>"
      ]
     },
     "execution_count": 23,
     "metadata": {},
     "output_type": "execute_result"
    },
    {
     "data": {
      "image/png": "[encoded data removed]",
      "text/plain": [
       "<matplotlib.figure.Figure at 0x7f45164a2410>"
      ]
     },
     "metadata": {},
     "output_type": "display_data"
    },
    {
     "data": {
      "image/png": "[encoded data removed]",
      "text/plain": [
       "<matplotlib.figure.Figure at 0x7f45164c5ad0>"
      ]
     },
     "metadata": {},
     "output_type": "display_data"
    }
   ],
   "source": [
    "figure()\n",
    "hist(cortex.edge_lengths, bins=100)\n",
    "title(\"Distribution of Edge Lengths\")\n",
    "xlabel(\"mm\")\n",
    "\n",
    "figure()\n",
    "hist(cortex.triangle_areas, bins=100)\n",
    "title(\"Distribution of Triangle Areas\")\n",
    "xlabel(\"mm$^2$\")"
   ]
  },
  {
   "cell_type": "markdown",
   "metadata": {},
   "source": [
    "Loading a non-default surface \n",
    "------------------------------\n",
    "Let's us have a look at a second cortical surface. This dataset is also stored in tvb_data, but you can give the absolute path to where you have your own data."
   ]
  },
  {
   "cell_type": "code",
   "execution_count": 29,
   "metadata": {
    "collapsed": false
   },
   "outputs": [],
   "source": [
    "cortex_80k = cort.Cortex.from_file(\"cortex_80k/surface_80k.zip\", region_mapping_file=\"cortex_80k/region_mapping_80.txt\",local_connectivity_file=\"cortex_80k/local_connectivity_80k.mat\")"
   ]
  },
  {
   "cell_type": "markdown",
   "metadata": {},
   "source": [
    "An alternative way to do this impplies a few more steps and later on we'll se why it is useful ..."
   ]
  },
  {
   "cell_type": "code",
   "execution_count": 32,
   "metadata": {
    "collapsed": false
   },
   "outputs": [],
   "source": [
    "cortex_80k.configure()"
   ]
  },
  {
   "cell_type": "code",
   "execution_count": 33,
   "metadata": {
    "collapsed": false
   },
   "outputs": [
    {
     "data": {
      "text/plain": [
       "{'Edge lengths, longest (mm)': 3.6711898899404525,\n",
       " 'Edge lengths, mean (mm)': 1.5265444483771284,\n",
       " 'Edge lengths, shortest (mm)': 0.4107428368237218,\n",
       " 'Has two hemispheres': False,\n",
       " 'Number of edges': 245760,\n",
       " 'Number of regions': 80,\n",
       " 'Number of triangles': 163840,\n",
       " 'Number of vertices': 81924,\n",
       " 'Region area, maximum (mm:math:`^2`)': 8342.4532265866837,\n",
       " 'Region area, mean (mm:math:`^2`)': 2066.5942009088531,\n",
       " 'Region area, minimum (mm:math:`^2`)': 232.34961551601401,\n",
       " 'Surface type': 'Cortex'}"
      ]
     },
     "execution_count": 33,
     "metadata": {},
     "output_type": "execute_result"
    }
   ],
   "source": [
    "cortex_80k.summary_info"
   ]
  },
  {
   "cell_type": "code",
   "execution_count": 34,
   "metadata": {
    "collapsed": false
   },
   "outputs": [
    {
     "data": {
      "text/plain": [
       "<matplotlib.text.Text at 0x7f4513c76390>"
      ]
     },
     "execution_count": 34,
     "metadata": {},
     "output_type": "execute_result"
    },
    {
     "data": {
      "image/png": "[encoded data removed]",
      "text/plain": [
       "<matplotlib.figure.Figure at 0x7f4512f03450>"
      ]
     },
     "metadata": {},
     "output_type": "display_data"
    },
    {
     "data": {
      "image/png": "[encoded data removed]",
      "text/plain": [
       "<matplotlib.figure.Figure at 0x7f4512eb57d0>"
      ]
     },
     "metadata": {},
     "output_type": "display_data"
    }
   ],
   "source": [
    "figure()\n",
    "hist(cortex_80k.edge_lengths, bins=100, facecolor='green')\n",
    "title(\"Distribution of Edge Lengths\")\n",
    "xlabel(\"mm\")\n",
    "\n",
    "figure()\n",
    "hist(cortex_80k.triangle_areas, bins=100, facecolor='green')\n",
    "title(\"Distribution of Triangle Areas\")\n",
    "xlabel(\"mm$^2$\")"
   ]
  },
  {
   "cell_type": "markdown",
   "metadata": {},
   "source": [
    "If you want to change the region mapping you can use the following syntax:"
   ]
  },
  {
   "cell_type": "code",
   "execution_count": 39,
   "metadata": {
    "collapsed": false
   },
   "outputs": [],
   "source": [
    "import tvb.datatypes.region_mapping as region_mapping\n",
    "my_rm = region_mapping.RegionMapping.from_file('cortex_80k/region_mapping_80.txt')\n",
    "cortex_80k.region_mapping_data = my_rm"
   ]
  },
  {
   "cell_type": "markdown",
   "metadata": {},
   "source": [
    "A similar syntax is valid if you have a .mat file with a different LocalConnectivity."
   ]
  },
  {
   "cell_type": "markdown",
   "metadata": {},
   "source": [
    "That's All Folks... so, what's next?\n",
    "=====================================\n",
    "\n",
    "We've covered some basic ways of checking the quality and other properties of\n",
    "a mesh surface. When loading a new surface into TVB, these represent the sorts\n",
    "of things you should be checking to make sure your surface will work well with\n",
    "TVB."
   ]
  }
 ],
 "metadata": {
  "kernelspec": {
   "display_name": "Python 2",
   "language": "python",
   "name": "python2"
  },
  "language_info": {
   "codemirror_mode": {
    "name": "ipython",
    "version": 2
   },
   "file_extension": ".py",
   "mimetype": "text/x-python",
   "name": "python",
   "nbconvert_exporter": "python",
   "pygments_lexer": "ipython2",
   "version": "2.7.10"
  }
 },
 "nbformat": 4,
 "nbformat_minor": 0
}
