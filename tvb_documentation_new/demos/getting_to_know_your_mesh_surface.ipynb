{
 "cells": [
  {
   "cell_type": "markdown",
   "metadata": {},
   "source": [
    "Getting To Know Your Surface Mesh\n",
    "============================================\n",
    "\n",
    "Surface level simulations in TVB use a triangular mesh surface to represent the \n",
    "folded cortical surface, similar triangular mesh surfaces are used to represent \n",
    "the boundaries between brain and skull, skull and skin, and skin and air, that \n",
    "are used in the calculation of EEG and MEG forward solutions. This tutorial \n",
    "covers a few basic ways of looking at the properties of these surfaces.\n",
    "\n",
    "One of the things we'll be looking for is how well regularised the mesh is -- **a\n",
    "well regularised a mesh has a narrow distribution of edge lengths and triangle \n",
    "areas**. For most uses in TVB, it is important to have a well regularised mesh. "
   ]
  },
  {
   "cell_type": "markdown",
   "metadata": {},
   "source": [
    "Setup\n",
    "-----\n",
    "\n",
    "We'll be working under the LIBRARY PROFILE and only import the 'surfaces' datatype:"
   ]
  },
  {
   "cell_type": "code",
   "execution_count": 1,
   "metadata": {
    "collapsed": false
   },
   "outputs": [
    {
     "name": "stdout",
     "output_type": "stream",
     "text": [
      "Populating the interactive namespace from numpy and matplotlib\n"
     ]
    }
   ],
   "source": [
    "%pylab inline"
   ]
  },
  {
   "cell_type": "code",
   "execution_count": 2,
   "metadata": {
    "collapsed": true
   },
   "outputs": [],
   "source": [
    "from tvb.basic.profile import TvbProfile\n",
    "TvbProfile.set_profile(TvbProfile.LIBRARY_PROFILE)"
   ]
  },
  {
   "cell_type": "code",
   "execution_count": 3,
   "metadata": {
    "collapsed": false
   },
   "outputs": [],
   "source": [
    "import tvb.datatypes.surfaces as surfaces"
   ]
  },
  {
   "cell_type": "markdown",
   "metadata": {},
   "source": [
    "Load the Default Cortical Surface\n",
    "----------------------------------\n",
    "\n",
    "**Note:** *The Cortex requires a LocalConnectivity to be defined over the entire surface, \n",
    "the configure() method below will calculate this LocalConnectivity if it hasn't been specified before. This method may take a minute or so... For the case of the default cortex, a LocalConnectivity has already been loaded*"
   ]
  },
  {
   "cell_type": "code",
   "execution_count": 4,
   "metadata": {
    "collapsed": false
   },
   "outputs": [],
   "source": [
    "cortex = surfaces.Cortex(load_default=True)\n",
    "cortex.configure()"
   ]
  },
  {
   "cell_type": "markdown",
   "metadata": {},
   "source": [
    "The Surfaces in TVB have a built in self check method, so we'll run that now\n",
    "to make sure the Cortex we just loaded does not have any defects from the point\n",
    "of view of TVB."
   ]
  },
  {
   "cell_type": "code",
   "execution_count": 5,
   "metadata": {
    "collapsed": false
   },
   "outputs": [
    {
     "data": {
      "text/plain": [
       "(True, '')"
      ]
     },
     "execution_count": 5,
     "metadata": {},
     "output_type": "execute_result"
    }
   ],
   "source": [
    "# Run the following check: \n",
    "cortex.has_valid_topology_for_simulations()"
   ]
  },
  {
   "cell_type": "markdown",
   "metadata": {},
   "source": [
    "\n",
    "The most important thing returned by the check is the first entry in the tuple. \n",
    "If everything is fine then this will be True, the rest of the error message let \n",
    "us know what is wrong if things don't check out ok."
   ]
  },
  {
   "cell_type": "markdown",
   "metadata": {},
   "source": [
    "Take A Look At Its Properties\n",
    "------------------------------\n",
    "\n",
    "As our surface is one of TVB's Datatypes, the first thing we can do is take a look at the summary information:"
   ]
  },
  {
   "cell_type": "code",
   "execution_count": 6,
   "metadata": {
    "collapsed": false
   },
   "outputs": [
    {
     "data": {
      "text/plain": [
       "{'Edge lengths, longest (mm)': 7.7567185378211327,\n",
       " 'Edge lengths, mean (mm)': 3.9760529288676785,\n",
       " 'Edge lengths, shortest (mm)': 0.6638075672007665,\n",
       " 'Has two hemispheres': False,\n",
       " 'Number of edges': 49140,\n",
       " 'Number of regions': 74,\n",
       " 'Number of triangles': 32760,\n",
       " 'Number of vertices': 16384,\n",
       " 'Region area, maximum (mm:math:`^2`)': 9119.4540365252615,\n",
       " 'Region area, mean (mm:math:`^2`)': 3366.2542250541251,\n",
       " 'Region area, minimum (mm:math:`^2`)': 366.48271886512993,\n",
       " 'Surface type': 'Cortex'}"
      ]
     },
     "execution_count": 6,
     "metadata": {},
     "output_type": "execute_result"
    }
   ],
   "source": [
    "cortex.summary_info"
   ]
  },
  {
   "cell_type": "markdown",
   "metadata": {},
   "source": [
    "We can see a number of basic properties of the mesh here, such as the number of vertices,\n",
    "edges and triangles making up the surface. A summary of the edge lengths is also included,\n",
    "this is useful to know what scale of features, eg LocalConnectivity, we can expect to be \n",
    "able to represent on this surface. As a Cortex also has a large-scale Connectivity \n",
    "associated with it we see some \"Region\" information as well, here it is TVB's default 74\n",
    "region connectivity matrix. As we can see, this Connectivity parcellates the cortex into \n",
    "regions with a fairly broad range of sizes...\n",
    "\n",
    "Looking in more detail, we can plot the distributions of things like edge lengths and \n",
    "triangle areas to see in more detail whether the mesh is well regularised..."
   ]
  },
  {
   "cell_type": "code",
   "execution_count": 7,
   "metadata": {
    "collapsed": false
   },
   "outputs": [
    {
     "data": {
      "text/plain": [
       "<matplotlib.text.Text at 0x7f78052cad90>"
      ]
     },
     "execution_count": 7,
     "metadata": {},
     "output_type": "execute_result"
    },
    {
     "data": {
      "image/png": "[encoded data removed]",
      "text/plain": [
       "<matplotlib.figure.Figure at 0x7f7806399210>"
      ]
     },
     "metadata": {},
     "output_type": "display_data"
    },
    {
     "data": {
      "image/png": "[encoded data removed]",
      "text/plain": [
       "<matplotlib.figure.Figure at 0x7f7805a71a10>"
      ]
     },
     "metadata": {},
     "output_type": "display_data"
    }
   ],
   "source": [
    "figure()\n",
    "hist(cortex.edge_lengths, bins=100)\n",
    "title(\"Distribution of Edge Lengths\")\n",
    "xlabel(\"mm\")\n",
    "\n",
    "figure()\n",
    "hist(cortex.triangle_areas, bins=100)\n",
    "title(\"Distribution of Triangle Areas\")\n",
    "xlabel(\"mm$^2$\")"
   ]
  },
  {
   "cell_type": "markdown",
   "metadata": {},
   "source": [
    "Loading a non-default surface \n",
    "------------------------------\n",
    "Let's us have a look at a second cortical surface. This dataset is also stored in tvb_data, but you can give the absolute path to where you have your own data."
   ]
  },
  {
   "cell_type": "code",
   "execution_count": 8,
   "metadata": {
    "collapsed": false
   },
   "outputs": [],
   "source": [
    "cortex_80k = surfaces.Cortex.from_file(\"cortex_80k/surface_80k.zip\", region_mapping_file=\"cortex_80k/region_mapping_80.txt\",local_connectivity_file=\"cortex_80k/local_connectivity_80k.mat\")"
   ]
  },
  {
   "cell_type": "markdown",
   "metadata": {},
   "source": [
    "An alternative way to do this impplies a few more steps and later on we'll se why it is useful ..."
   ]
  },
  {
   "cell_type": "code",
   "execution_count": null,
   "metadata": {
    "collapsed": false
   },
   "outputs": [],
   "source": [
    "rm_80k = surfaces.RegionMapping.from_file('cortex_80k/region_mapping_80.txt')\n",
    "cortex_80k = surfaces.Cortex.from_file(\"cortex_80k/surface_80k.zip\")\n",
    "lc_80k = surfaces.LocalConnectivity.from_file(\"cortex_80k/local_connectivity_80k.mat\")\n",
    "\n",
    "cortex_80k.region_mapping_data = rm_80k\n",
    "cortex_80k.local_connectivity  = lc_80k"
   ]
  },
  {
   "cell_type": "code",
   "execution_count": 9,
   "metadata": {
    "collapsed": false
   },
   "outputs": [
    {
     "data": {
      "text/plain": [
       "(True, '')"
      ]
     },
     "execution_count": 9,
     "metadata": {},
     "output_type": "execute_result"
    }
   ],
   "source": [
    "cortex_80k.configure(); cortex_80k.has_valid_topology_for_simulations() "
   ]
  },
  {
   "cell_type": "code",
   "execution_count": 10,
   "metadata": {
    "collapsed": false
   },
   "outputs": [
    {
     "data": {
      "text/plain": [
       "{'Edge lengths, longest (mm)': 3.6711898899404525,\n",
       " 'Edge lengths, mean (mm)': 1.526544448377104,\n",
       " 'Edge lengths, shortest (mm)': 0.41074283682372181,\n",
       " 'Has two hemispheres': False,\n",
       " 'Number of edges': 245760,\n",
       " 'Number of regions': 80,\n",
       " 'Number of triangles': 163840,\n",
       " 'Number of vertices': 81924,\n",
       " 'Region area, maximum (mm:math:`^2`)': 8342.4532265866892,\n",
       " 'Region area, mean (mm:math:`^2`)': 2066.5942009088531,\n",
       " 'Region area, minimum (mm:math:`^2`)': 232.34961551601396,\n",
       " 'Surface type': 'Cortex'}"
      ]
     },
     "execution_count": 10,
     "metadata": {},
     "output_type": "execute_result"
    }
   ],
   "source": [
    "cortex_80k.summary_info"
   ]
  },
  {
   "cell_type": "code",
   "execution_count": 11,
   "metadata": {
    "collapsed": false
   },
   "outputs": [
    {
     "data": {
      "text/plain": [
       "<matplotlib.text.Text at 0x7f7805387f10>"
      ]
     },
     "execution_count": 11,
     "metadata": {},
     "output_type": "execute_result"
    },
    {
     "data": {
      "image/png": "[encoded data removed]",
      "text/plain": [
       "<matplotlib.figure.Figure at 0x7f7805a656d0>"
      ]
     },
     "metadata": {},
     "output_type": "display_data"
    },
    {
     "data": {
      "image/png": "[encoded data removed]",
      "text/plain": [
       "<matplotlib.figure.Figure at 0x7f780537b090>"
      ]
     },
     "metadata": {},
     "output_type": "display_data"
    }
   ],
   "source": [
    "figure()\n",
    "hist(cortex_80k.edge_lengths, bins=100, facecolor='green')\n",
    "title(\"Distribution of Edge Lengths\")\n",
    "xlabel(\"mm\")\n",
    "\n",
    "figure()\n",
    "hist(cortex_80k.triangle_areas, bins=100, facecolor='green')\n",
    "title(\"Distribution of Triangle Areas\")\n",
    "xlabel(\"mm$^2$\")"
   ]
  },
  {
   "cell_type": "markdown",
   "metadata": {},
   "source": [
    "If you want to change the region mapping you can use the following syntax:"
   ]
  },
  {
   "cell_type": "code",
   "execution_count": 12,
   "metadata": {
    "collapsed": false
   },
   "outputs": [],
   "source": [
    "my_rm = surfaces.RegionMapping.from_file('cortex_80k/region_mapping_80.txt')\n",
    "cortex_80k.region_mapping_data = my_rm"
   ]
  },
  {
   "cell_type": "markdown",
   "metadata": {},
   "source": [
    "A similar syntax is valid if you have a .mat file with a different LocalConnectivity."
   ]
  },
  {
   "cell_type": "markdown",
   "metadata": {},
   "source": [
    "That's All Folks... so, what's next?\n",
    "=====================================\n",
    "\n",
    "We've covered some basic ways of checking the quality and other properties of\n",
    "a mesh surface. When loading a new surface into TVB, these represent the sorts\n",
    "of things you should be checking to make sure your surface will work well with\n",
    "TVB."
   ]
  }
 ],
 "metadata": {
  "kernelspec": {
   "display_name": "Python 2",
   "language": "python",
   "name": "python2"
  },
  "language_info": {
   "codemirror_mode": {
    "name": "ipython",
    "version": 2
   },
   "file_extension": ".py",
   "mimetype": "text/x-python",
   "name": "python",
   "nbconvert_exporter": "python",
   "pygments_lexer": "ipython2",
   "version": "2.7.10"
  }
 },
 "nbformat": 4,
 "nbformat_minor": 0
}
