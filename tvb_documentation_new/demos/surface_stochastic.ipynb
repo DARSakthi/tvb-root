{
 "cells": [
  {
   "cell_type": "code",
   "execution_count": 1,
   "metadata": {
    "collapsed": false
   },
   "outputs": [
    {
     "name": "stdout",
     "output_type": "stream",
     "text": [
      "Populating the interactive namespace from numpy and matplotlib\n"
     ]
    }
   ],
   "source": [
    "%pylab inline"
   ]
  },
  {
   "cell_type": "markdown",
   "metadata": {},
   "source": [
    "####Demonstrate using the simulator for a surface simulation, deterministic  integration.\n",
    "\n",
    "``Run time``: approximately 30 seconds (workstation circa 2010).\n",
    "\n",
    "``Memory requirement``: < 1 GB"
   ]
  },
  {
   "cell_type": "code",
   "execution_count": 2,
   "metadata": {
    "collapsed": true
   },
   "outputs": [],
   "source": [
    "from tvb.datatypes.cortex import Cortex\n",
    "\n",
    "from tvb.simulator.lab import *"
   ]
  },
  {
   "cell_type": "markdown",
   "metadata": {},
   "source": [
    "####Perform the simulation "
   ]
  },
  {
   "cell_type": "code",
   "execution_count": 3,
   "metadata": {
    "collapsed": true
   },
   "outputs": [],
   "source": [
    "#Initialise a Model, Coupling, and Connectivity.\n",
    "rfhn = models.ReducedSetFitzHughNagumo()\n",
    "white_matter = connectivity.Connectivity(load_default=True)\n",
    "white_matter.speed = numpy.array([4.0])\n",
    "\n",
    "white_matter_coupling = coupling.Linear(a=0.0043)   # 0.0066"
   ]
  },
  {
   "cell_type": "code",
   "execution_count": 4,
   "metadata": {
    "collapsed": true
   },
   "outputs": [],
   "source": [
    "#Initialise an Integrator\n",
    "hiss = noise.Additive(nsig=numpy.array([2 ** -16, ]))\n",
    "heunint = integrators.HeunStochastic(dt=2 ** -4, noise=hiss)"
   ]
  },
  {
   "cell_type": "code",
   "execution_count": 5,
   "metadata": {
    "collapsed": true
   },
   "outputs": [],
   "source": [
    "#Initialise some Monitors with period in physical time\n",
    "mon_tavg = monitors.TemporalAverage(period=2 ** -2)\n",
    "mon_savg = monitors.SpatialAverage(period=2 ** -2)\n",
    "mon_eeg = monitors.EEG(period=2 ** -2)\n",
    "#Bundle them\n",
    "what_to_watch = (mon_tavg, mon_savg, mon_eeg)"
   ]
  },
  {
   "cell_type": "code",
   "execution_count": 6,
   "metadata": {
    "collapsed": true
   },
   "outputs": [],
   "source": [
    "#Initialise a surface fully loaded\n",
    "default_cortex = Cortex(load_default=True)"
   ]
  },
  {
   "cell_type": "code",
   "execution_count": 7,
   "metadata": {
    "collapsed": false
   },
   "outputs": [
    {
     "ename": "AttributeError",
     "evalue": "'NoneType' object has no attribute 'configure'",
     "output_type": "error",
     "traceback": [
      "\u001b[1;31m---------------------------------------------------------------------------\u001b[0m",
      "\u001b[1;31mAttributeError\u001b[0m                            Traceback (most recent call last)",
      "\u001b[1;32m<ipython-input-7-355c33649442>\u001b[0m in \u001b[0;36m<module>\u001b[1;34m()\u001b[0m\n\u001b[0;32m      5\u001b[0m                           surface=default_cortex)\n\u001b[0;32m      6\u001b[0m \u001b[1;33m\u001b[0m\u001b[0m\n\u001b[1;32m----> 7\u001b[1;33m \u001b[0msim\u001b[0m\u001b[1;33m.\u001b[0m\u001b[0mconfigure\u001b[0m\u001b[1;33m(\u001b[0m\u001b[1;33m)\u001b[0m\u001b[1;33m\u001b[0m\u001b[0m\n\u001b[0m",
      "\u001b[1;32m/home/tim/trunk/scientific_library/tvb/simulator/simulator.pyc\u001b[0m in \u001b[0;36mconfigure\u001b[1;34m(self, full_configure)\u001b[0m\n\u001b[0;32m    352\u001b[0m \u001b[1;33m\u001b[0m\u001b[0m\n\u001b[0;32m    353\u001b[0m         \u001b[1;31m#Configure Monitors to work with selected Model, etc...\u001b[0m\u001b[1;33m\u001b[0m\u001b[1;33m\u001b[0m\u001b[0m\n\u001b[1;32m--> 354\u001b[1;33m         \u001b[0mself\u001b[0m\u001b[1;33m.\u001b[0m\u001b[0mconfigure_monitors\u001b[0m\u001b[1;33m(\u001b[0m\u001b[1;33m)\u001b[0m\u001b[1;33m\u001b[0m\u001b[0m\n\u001b[0m\u001b[0;32m    355\u001b[0m \u001b[1;33m\u001b[0m\u001b[0m\n\u001b[0;32m    356\u001b[0m         \u001b[1;31m#Estimate of memory usage.\u001b[0m\u001b[1;33m\u001b[0m\u001b[1;33m\u001b[0m\u001b[0m\n",
      "\u001b[1;32m/home/tim/trunk/scientific_library/tvb/simulator/simulator.pyc\u001b[0m in \u001b[0;36mconfigure_monitors\u001b[1;34m(self)\u001b[0m\n\u001b[0;32m    590\u001b[0m         \u001b[1;31m# Configure monitors\u001b[0m\u001b[1;33m\u001b[0m\u001b[1;33m\u001b[0m\u001b[0m\n\u001b[0;32m    591\u001b[0m         \u001b[1;32mfor\u001b[0m \u001b[0mmonitor\u001b[0m \u001b[1;32min\u001b[0m \u001b[0mself\u001b[0m\u001b[1;33m.\u001b[0m\u001b[0mmonitors\u001b[0m\u001b[1;33m:\u001b[0m\u001b[1;33m\u001b[0m\u001b[0m\n\u001b[1;32m--> 592\u001b[1;33m             \u001b[0mmonitor\u001b[0m\u001b[1;33m.\u001b[0m\u001b[0mconfig_for_sim\u001b[0m\u001b[1;33m(\u001b[0m\u001b[0mself\u001b[0m\u001b[1;33m)\u001b[0m\u001b[1;33m\u001b[0m\u001b[0m\n\u001b[0m\u001b[0;32m    593\u001b[0m \u001b[1;33m\u001b[0m\u001b[0m\n\u001b[0;32m    594\u001b[0m \u001b[1;33m\u001b[0m\u001b[0m\n",
      "\u001b[1;32m/home/tim/trunk/scientific_library/tvb/simulator/monitors.pyc\u001b[0m in \u001b[0;36mconfig_for_sim\u001b[1;34m(self, simulator)\u001b[0m\n\u001b[0;32m    863\u001b[0m \u001b[1;33m\u001b[0m\u001b[0m\n\u001b[0;32m    864\u001b[0m     \u001b[1;32mdef\u001b[0m \u001b[0mconfig_for_sim\u001b[0m\u001b[1;33m(\u001b[0m\u001b[0mself\u001b[0m\u001b[1;33m,\u001b[0m \u001b[0msimulator\u001b[0m\u001b[1;33m)\u001b[0m\u001b[1;33m:\u001b[0m\u001b[1;33m\u001b[0m\u001b[0m\n\u001b[1;32m--> 865\u001b[1;33m         \u001b[0msuper\u001b[0m\u001b[1;33m(\u001b[0m\u001b[0mEEG\u001b[0m\u001b[1;33m,\u001b[0m \u001b[0mself\u001b[0m\u001b[1;33m)\u001b[0m\u001b[1;33m.\u001b[0m\u001b[0mconfig_for_sim\u001b[0m\u001b[1;33m(\u001b[0m\u001b[0msimulator\u001b[0m\u001b[1;33m)\u001b[0m\u001b[1;33m\u001b[0m\u001b[0m\n\u001b[0m\u001b[0;32m    866\u001b[0m         \u001b[0mself\u001b[0m\u001b[1;33m.\u001b[0m\u001b[0m_ref_vec\u001b[0m \u001b[1;33m=\u001b[0m \u001b[0mnumpy\u001b[0m\u001b[1;33m.\u001b[0m\u001b[0mzeros\u001b[0m\u001b[1;33m(\u001b[0m\u001b[1;33m(\u001b[0m\u001b[0mself\u001b[0m\u001b[1;33m.\u001b[0m\u001b[0msensors\u001b[0m\u001b[1;33m.\u001b[0m\u001b[0mnumber_of_sensors\u001b[0m\u001b[1;33m,\u001b[0m \u001b[1;33m)\u001b[0m\u001b[1;33m)\u001b[0m\u001b[1;33m\u001b[0m\u001b[0m\n\u001b[0;32m    867\u001b[0m         \u001b[1;32mif\u001b[0m \u001b[0mself\u001b[0m\u001b[1;33m.\u001b[0m\u001b[0mreference\u001b[0m\u001b[1;33m:\u001b[0m\u001b[1;33m\u001b[0m\u001b[0m\n",
      "\u001b[1;32m/home/tim/trunk/scientific_library/tvb/simulator/monitors.pyc\u001b[0m in \u001b[0;36mconfig_for_sim\u001b[1;34m(self, simulator)\u001b[0m\n\u001b[0;32m    736\u001b[0m \u001b[1;33m\u001b[0m\u001b[0m\n\u001b[0;32m    737\u001b[0m         \u001b[1;32mif\u001b[0m \u001b[0mhasattr\u001b[0m\u001b[1;33m(\u001b[0m\u001b[0mself\u001b[0m\u001b[1;33m,\u001b[0m \u001b[1;34m'sensors'\u001b[0m\u001b[1;33m)\u001b[0m\u001b[1;33m:\u001b[0m\u001b[1;33m\u001b[0m\u001b[0m\n\u001b[1;32m--> 738\u001b[1;33m             \u001b[0mself\u001b[0m\u001b[1;33m.\u001b[0m\u001b[0msensors\u001b[0m\u001b[1;33m.\u001b[0m\u001b[0mconfigure\u001b[0m\u001b[1;33m(\u001b[0m\u001b[1;33m)\u001b[0m\u001b[1;33m\u001b[0m\u001b[0m\n\u001b[0m\u001b[0;32m    739\u001b[0m \u001b[1;33m\u001b[0m\u001b[0m\n\u001b[0;32m    740\u001b[0m         \u001b[1;31m# setup convenient locals\u001b[0m\u001b[1;33m\u001b[0m\u001b[1;33m\u001b[0m\u001b[0m\n",
      "\u001b[1;31mAttributeError\u001b[0m: 'NoneType' object has no attribute 'configure'"
     ]
    }
   ],
   "source": [
    "#Initialise Simulator -- Model, Connectivity, Integrator, Monitors, and surface.\n",
    "sim = simulator.Simulator(model=rfhn, connectivity=white_matter,\n",
    "                          coupling=white_matter_coupling,\n",
    "                          integrator=heunint, monitors=what_to_watch,\n",
    "                          surface=default_cortex)\n",
    "\n",
    "sim.configure()"
   ]
  },
  {
   "cell_type": "code",
   "execution_count": null,
   "metadata": {
    "collapsed": true
   },
   "outputs": [],
   "source": [
    "#Clear initial transient\n",
    "LOG.info(\"Initial run to clear transient...\")\n",
    "for _, _, _ in sim(simulation_length=2 ** 6):\n",
    "    pass\n",
    "LOG.info(\"Finished initial run to clear transient.\")\n"
   ]
  },
  {
   "cell_type": "code",
   "execution_count": null,
   "metadata": {
    "collapsed": true
   },
   "outputs": [],
   "source": [
    "#Perform the simulation\n",
    "tavg_data = []\n",
    "tavg_time = []\n",
    "savg_data = []\n",
    "savg_time = []\n",
    "eeg_data = []\n",
    "eeg_time = []\n",
    "\n",
    "for tavg, savg, eeg in sim(simulation_length=2 ** 6):\n",
    "    if not tavg is None:\n",
    "        tavg_time.append(tavg[0])\n",
    "        tavg_data.append(tavg[1])\n",
    "\n",
    "    if not savg is None:\n",
    "        savg_time.append(savg[0])\n",
    "        savg_data.append(savg[1])\n",
    "        \n",
    "    if not eeg is None:\n",
    "        eeg_time.append(eeg[0])\n",
    "        eeg_data.append(eeg[1])\n",
    "\n",
    "LOG.info(\"finished simulation\")"
   ]
  },
  {
   "cell_type": "markdown",
   "metadata": {},
   "source": [
    "####Plot pretty pictures of what we just did "
   ]
  },
  {
   "cell_type": "code",
   "execution_count": null,
   "metadata": {
    "collapsed": false
   },
   "outputs": [],
   "source": [
    "#Make the lists numpy.arrays for easier use.\n",
    "TAVG = numpy.array(tavg_data)\n",
    "SAVG = numpy.array(savg_data)\n",
    "EEG = numpy.array(eeg_data)\n",
    "\n",
    "#Plot region averaged time series\n",
    "figure(3)\n",
    "plot(savg_time, SAVG[:, 0, :, 0])\n",
    "title(\"Region average\")\n",
    "\n",
    "#Plot EEG time series\n",
    "figure(4)\n",
    "plot(eeg_time, EEG[:, 0, :, 0])\n",
    "title(\"EEG\")\n",
    "\n",
    "show()\n",
    "\n",
    "#Surface movie, requires mayavi.malb\n",
    "if IMPORTED_MAYAVI:\n",
    "    from tvb.simulator.plot.tools import mlab\n",
    "    st = surface_timeseries(sim.surface, TAVG[:, 0, :, 0])\n",
    "    imshow(mlab.screenshot())"
   ]
  },
  {
   "cell_type": "code",
   "execution_count": null,
   "metadata": {
    "collapsed": true
   },
   "outputs": [],
   "source": []
  }
 ],
 "metadata": {
  "kernelspec": {
   "display_name": "Python 2",
   "language": "python",
   "name": "python2"
  },
  "language_info": {
   "codemirror_mode": {
    "name": "ipython",
    "version": 2
   },
   "file_extension": ".py",
   "mimetype": "text/x-python",
   "name": "python",
   "nbconvert_exporter": "python",
   "pygments_lexer": "ipython2",
   "version": "2.7.10"
  }
 },
 "nbformat": 4,
 "nbformat_minor": 0
}
