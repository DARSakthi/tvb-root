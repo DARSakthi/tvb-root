{
 "cells": [
  {
   "cell_type": "markdown",
   "metadata": {},
   "source": [
    "####Demonstrate using the simulator for a surface simulation, deterministic  integration.\n",
    "\n",
    "``Run time``: approximately 30 seconds (workstation circa 2010).\n",
    "\n",
    "``Memory requirement``: < 1 GB"
   ]
  },
  {
   "cell_type": "code",
   "execution_count": 2,
   "metadata": {
    "collapsed": true
   },
   "outputs": [],
   "source": [
    "from tvb.datatypes.cortex import Cortex\n",
    "\n",
    "from tvb.simulator.lab import *"
   ]
  },
  {
   "cell_type": "markdown",
   "metadata": {},
   "source": [
    "####Perform the simulation "
   ]
  },
  {
   "cell_type": "code",
   "execution_count": 3,
   "metadata": {
    "collapsed": true
   },
   "outputs": [],
   "source": [
    "#Initialise a Model, Coupling, and Connectivity.\n",
    "rfhn = models.ReducedSetFitzHughNagumo()\n",
    "white_matter = connectivity.Connectivity(load_default=True)\n",
    "white_matter.speed = numpy.array([4.0])\n",
    "\n",
    "white_matter_coupling = coupling.Linear(a=0.0043)   # 0.0066"
   ]
  },
  {
   "cell_type": "code",
   "execution_count": 4,
   "metadata": {
    "collapsed": true
   },
   "outputs": [],
   "source": [
    "#Initialise an Integrator\n",
    "hiss = noise.Additive(nsig=numpy.array([2 ** -16, ]))\n",
    "heunint = integrators.HeunStochastic(dt=2 ** -4, noise=hiss)"
   ]
  },
  {
   "cell_type": "code",
   "execution_count": 5,
   "metadata": {
    "collapsed": true
   },
   "outputs": [],
   "source": [
    "#Initialise some Monitors with period in physical time\n",
    "mon_tavg = monitors.TemporalAverage(period=2 ** -2)\n",
    "mon_savg = monitors.SpatialAverage(period=2 ** -2)\n",
    "mon_eeg = monitors.EEG(period=2 ** -2)\n",
    "#Bundle them\n",
    "what_to_watch = (mon_tavg, mon_savg, mon_eeg)"
   ]
  },
  {
   "cell_type": "code",
   "execution_count": 6,
   "metadata": {
    "collapsed": true
   },
   "outputs": [],
   "source": [
    "#Initialise a surface fully loaded\n",
    "default_cortex = Cortex(load_default=True)"
   ]
  },
  {
   "cell_type": "code",
   "execution_count": 7,
   "metadata": {
    "collapsed": true
   },
   "outputs": [],
   "source": [
    "#Initialise Simulator -- Model, Connectivity, Integrator, Monitors, and surface.\n",
    "sim = simulator.Simulator(model=rfhn, connectivity=white_matter,\n",
    "                          coupling=white_matter_coupling,\n",
    "                          integrator=heunint, monitors=what_to_watch,\n",
    "                          surface=default_cortex)\n",
    "\n",
    "sim.configure()"
   ]
  },
  {
   "cell_type": "code",
   "execution_count": 8,
   "metadata": {
    "collapsed": true
   },
   "outputs": [],
   "source": [
    "#Clear initial transient\n",
    "LOG.info(\"Initial run to clear transient...\")\n",
    "for _, _, _ in sim(simulation_length=2 ** 6):\n",
    "    pass\n",
    "LOG.info(\"Finished initial run to clear transient.\")\n"
   ]
  },
  {
   "cell_type": "code",
   "execution_count": 9,
   "metadata": {
    "collapsed": true
   },
   "outputs": [],
   "source": [
    "#Perform the simulation\n",
    "tavg_data = []\n",
    "tavg_time = []\n",
    "savg_data = []\n",
    "savg_time = []\n",
    "eeg_data = []\n",
    "eeg_time = []\n",
    "\n",
    "for tavg, savg, eeg in sim(simulation_length=2 ** 6):\n",
    "    if not tavg is None:\n",
    "        tavg_time.append(tavg[0])\n",
    "        tavg_data.append(tavg[1])\n",
    "\n",
    "    if not savg is None:\n",
    "        savg_time.append(savg[0])\n",
    "        savg_data.append(savg[1])\n",
    "        \n",
    "    if not eeg is None:\n",
    "        eeg_time.append(eeg[0])\n",
    "        eeg_data.append(eeg[1])\n",
    "\n",
    "LOG.info(\"finished simulation\")"
   ]
  },
  {
   "cell_type": "markdown",
   "metadata": {},
   "source": [
    "####Plot pretty pictures of what we just did "
   ]
  },
  {
   "cell_type": "code",
   "execution_count": 13,
   "metadata": {
    "collapsed": false
   },
   "outputs": [
    {
     "data": {
      "image/png": "[encoded data removed]",
      "text/plain": [
       "<matplotlib.figure.Figure at 0x7f6d18c09390>"
      ]
     },
     "metadata": {},
     "output_type": "display_data"
    },
    {
     "data": {
      "image/png": "[encoded data removed]",
      "text/plain": [
       "<matplotlib.figure.Figure at 0x7f6d0b609bd0>"
      ]
     },
     "metadata": {},
     "output_type": "display_data"
    },
    {
     "data": {
      "image/png": "[encoded data removed]",
      "text/plain": [
       "<matplotlib.figure.Figure at 0x7f6cff1a4250>"
      ]
     },
     "metadata": {},
     "output_type": "display_data"
    }
   ],
   "source": [
    "#Make the lists numpy.arrays for easier use.\n",
    "TAVG = numpy.array(tavg_data)\n",
    "SAVG = numpy.array(savg_data)\n",
    "EEG = numpy.array(eeg_data)\n",
    "\n",
    "#Plot region averaged time series\n",
    "figure(3)\n",
    "plot(savg_time, SAVG[:, 0, :, 0])\n",
    "title(\"Region average\")\n",
    "\n",
    "#Plot EEG time series\n",
    "figure(4)\n",
    "plot(eeg_time, EEG[:, 0, :, 0])\n",
    "title(\"EEG\")\n",
    "\n",
    "show()\n",
    "\n",
    "#Surface movie, requires mayavi.malb\n",
    "if IMPORTED_MAYAVI:\n",
    "    from tvb.simulator.plot.tools import mlab\n",
    "    st = surface_timeseries(sim.surface, TAVG[:, 0, :, 0])\n",
    "    imshow(mlab.screenshot())"
   ]
  },
  {
   "cell_type": "code",
   "execution_count": null,
   "metadata": {
    "collapsed": true
   },
   "outputs": [],
   "source": []
  }
 ],
 "metadata": {
  "kernelspec": {
   "display_name": "Python 2",
   "language": "python",
   "name": "python2"
  },
  "language_info": {
   "codemirror_mode": {
    "name": "ipython",
    "version": 2
   },
   "file_extension": ".py",
   "mimetype": "text/x-python",
   "name": "python",
   "nbconvert_exporter": "python",
   "pygments_lexer": "ipython2",
   "version": "2.7.10"
  }
 },
 "nbformat": 4,
 "nbformat_minor": 0
}
